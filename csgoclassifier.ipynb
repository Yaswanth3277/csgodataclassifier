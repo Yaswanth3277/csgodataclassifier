{
 "cells": [
  {
   "cell_type": "code",
   "execution_count": 45,
   "metadata": {
    "collapsed": true
   },
   "outputs": [],
   "source": [
    "import pandas as pd\n",
    "import numpy as np\n",
    "import matplotlib.pyplot as plt\n",
    "import seaborn as sns"
   ]
  },
  {
   "cell_type": "code",
   "execution_count": 46,
   "outputs": [
    {
     "name": "stderr",
     "output_type": "stream",
     "text": [
      "c:\\python3\\lib\\site-packages\\IPython\\core\\interactiveshell.py:3155: DtypeWarning: Columns (5) have mixed types.Specify dtype option on import or set low_memory=False.\n",
      "  has_raised = await self.run_ast_nodes(code_ast.body, cell_name,\n"
     ]
    }
   ],
   "source": [
    "results_df = pd.read_csv(\"Datasets/results.csv\")\n",
    "picks_df = pd.read_csv(\"Datasets/picks.csv\")\n",
    "players_df= pd.read_csv(\"Datasets/players.csv\")\n",
    "economy_df = pd.read_csv(\"Datasets/economy.csv\")"
   ],
   "metadata": {
    "collapsed": false,
    "pycharm": {
     "name": "#%%\n"
    }
   }
  },
  {
   "cell_type": "code",
   "execution_count": 47,
   "outputs": [
    {
     "name": "stdout",
     "output_type": "stream",
     "text": [
      "45773\n"
     ]
    },
    {
     "data": {
      "text/plain": "         date               team_1          team_2     _map  result_1  \\\n0  2020-03-18              Recon 5         TeamOne    Dust2         0   \n1  2020-03-18              Recon 5         TeamOne  Inferno        13   \n2  2020-03-18  New England Whalers        Station7  Inferno        12   \n3  2020-03-18              Rugratz  Bad News Bears  Inferno         7   \n4  2020-03-18              Rugratz  Bad News Bears  Vertigo         8   \n\n   result_2  map_winner  starting_ct  ct_1  t_2  t_1  ct_2  event_id  \\\n0        16           2            2     0    1    0    15      5151   \n1        16           2            2     8    6    5    10      5151   \n2        16           2            1     9    6    3    10      5243   \n3        16           2            2     0    8    7     8      5151   \n4        16           2            2     4    5    4    11      5151   \n\n   match_id  rank_1  rank_2  map_wins_1  map_wins_2  match_winner  \n0   2340454      62      63           0           2             2  \n1   2340454      62      63           0           2             2  \n2   2340461     140     118          12          16             2  \n3   2340453      61      38           0           2             2  \n4   2340453      61      38           0           2             2  ",
      "text/html": "<div>\n<style scoped>\n    .dataframe tbody tr th:only-of-type {\n        vertical-align: middle;\n    }\n\n    .dataframe tbody tr th {\n        vertical-align: top;\n    }\n\n    .dataframe thead th {\n        text-align: right;\n    }\n</style>\n<table border=\"1\" class=\"dataframe\">\n  <thead>\n    <tr style=\"text-align: right;\">\n      <th></th>\n      <th>date</th>\n      <th>team_1</th>\n      <th>team_2</th>\n      <th>_map</th>\n      <th>result_1</th>\n      <th>result_2</th>\n      <th>map_winner</th>\n      <th>starting_ct</th>\n      <th>ct_1</th>\n      <th>t_2</th>\n      <th>t_1</th>\n      <th>ct_2</th>\n      <th>event_id</th>\n      <th>match_id</th>\n      <th>rank_1</th>\n      <th>rank_2</th>\n      <th>map_wins_1</th>\n      <th>map_wins_2</th>\n      <th>match_winner</th>\n    </tr>\n  </thead>\n  <tbody>\n    <tr>\n      <th>0</th>\n      <td>2020-03-18</td>\n      <td>Recon 5</td>\n      <td>TeamOne</td>\n      <td>Dust2</td>\n      <td>0</td>\n      <td>16</td>\n      <td>2</td>\n      <td>2</td>\n      <td>0</td>\n      <td>1</td>\n      <td>0</td>\n      <td>15</td>\n      <td>5151</td>\n      <td>2340454</td>\n      <td>62</td>\n      <td>63</td>\n      <td>0</td>\n      <td>2</td>\n      <td>2</td>\n    </tr>\n    <tr>\n      <th>1</th>\n      <td>2020-03-18</td>\n      <td>Recon 5</td>\n      <td>TeamOne</td>\n      <td>Inferno</td>\n      <td>13</td>\n      <td>16</td>\n      <td>2</td>\n      <td>2</td>\n      <td>8</td>\n      <td>6</td>\n      <td>5</td>\n      <td>10</td>\n      <td>5151</td>\n      <td>2340454</td>\n      <td>62</td>\n      <td>63</td>\n      <td>0</td>\n      <td>2</td>\n      <td>2</td>\n    </tr>\n    <tr>\n      <th>2</th>\n      <td>2020-03-18</td>\n      <td>New England Whalers</td>\n      <td>Station7</td>\n      <td>Inferno</td>\n      <td>12</td>\n      <td>16</td>\n      <td>2</td>\n      <td>1</td>\n      <td>9</td>\n      <td>6</td>\n      <td>3</td>\n      <td>10</td>\n      <td>5243</td>\n      <td>2340461</td>\n      <td>140</td>\n      <td>118</td>\n      <td>12</td>\n      <td>16</td>\n      <td>2</td>\n    </tr>\n    <tr>\n      <th>3</th>\n      <td>2020-03-18</td>\n      <td>Rugratz</td>\n      <td>Bad News Bears</td>\n      <td>Inferno</td>\n      <td>7</td>\n      <td>16</td>\n      <td>2</td>\n      <td>2</td>\n      <td>0</td>\n      <td>8</td>\n      <td>7</td>\n      <td>8</td>\n      <td>5151</td>\n      <td>2340453</td>\n      <td>61</td>\n      <td>38</td>\n      <td>0</td>\n      <td>2</td>\n      <td>2</td>\n    </tr>\n    <tr>\n      <th>4</th>\n      <td>2020-03-18</td>\n      <td>Rugratz</td>\n      <td>Bad News Bears</td>\n      <td>Vertigo</td>\n      <td>8</td>\n      <td>16</td>\n      <td>2</td>\n      <td>2</td>\n      <td>4</td>\n      <td>5</td>\n      <td>4</td>\n      <td>11</td>\n      <td>5151</td>\n      <td>2340453</td>\n      <td>61</td>\n      <td>38</td>\n      <td>0</td>\n      <td>2</td>\n      <td>2</td>\n    </tr>\n  </tbody>\n</table>\n</div>"
     },
     "execution_count": 47,
     "metadata": {},
     "output_type": "execute_result"
    }
   ],
   "source": [
    "print(len(results_df))\n",
    "results_df.head()"
   ],
   "metadata": {
    "collapsed": false,
    "pycharm": {
     "name": "#%%\n"
    }
   }
  },
  {
   "cell_type": "code",
   "execution_count": 48,
   "outputs": [
    {
     "name": "stdout",
     "output_type": "stream",
     "text": [
      "16035\n"
     ]
    },
    {
     "data": {
      "text/plain": "         date               team_1          team_2  inverted_teams  match_id  \\\n0  2020-03-18              TeamOne         Recon 5               1   2340454   \n1  2020-03-18              Rugratz  Bad News Bears               0   2340453   \n2  2020-03-18  New England Whalers        Station7               0   2340461   \n3  2020-03-17           Complexity           forZe               1   2340279   \n4  2020-03-17          Singularity        Endpoint               0   2340456   \n\n   event_id best_of  system t1_removed_1 t1_removed_2 t1_removed_3  \\\n0      5151       3  123412      Vertigo        Train          0.0   \n1      5151       3  123412        Dust2         Nuke          0.0   \n2      5243       1  121212       Mirage        Dust2      Vertigo   \n3      5226       3  123412      Inferno         Nuke          0.0   \n4      5247       3  123412        Train       Mirage          0.0   \n\n  t2_removed_1 t2_removed_2 t2_removed_3 t1_picked_1 t2_picked_1 left_over  \n0         Nuke     Overpass          0.0       Dust2     Inferno    Mirage  \n1       Mirage        Train          0.0     Vertigo     Inferno  Overpass  \n2         Nuke        Train     Overpass         0.0         0.0   Inferno  \n3     Overpass      Vertigo          0.0       Dust2       Train    Mirage  \n4         Nuke      Inferno          0.0    Overpass     Vertigo     Dust2  ",
      "text/html": "<div>\n<style scoped>\n    .dataframe tbody tr th:only-of-type {\n        vertical-align: middle;\n    }\n\n    .dataframe tbody tr th {\n        vertical-align: top;\n    }\n\n    .dataframe thead th {\n        text-align: right;\n    }\n</style>\n<table border=\"1\" class=\"dataframe\">\n  <thead>\n    <tr style=\"text-align: right;\">\n      <th></th>\n      <th>date</th>\n      <th>team_1</th>\n      <th>team_2</th>\n      <th>inverted_teams</th>\n      <th>match_id</th>\n      <th>event_id</th>\n      <th>best_of</th>\n      <th>system</th>\n      <th>t1_removed_1</th>\n      <th>t1_removed_2</th>\n      <th>t1_removed_3</th>\n      <th>t2_removed_1</th>\n      <th>t2_removed_2</th>\n      <th>t2_removed_3</th>\n      <th>t1_picked_1</th>\n      <th>t2_picked_1</th>\n      <th>left_over</th>\n    </tr>\n  </thead>\n  <tbody>\n    <tr>\n      <th>0</th>\n      <td>2020-03-18</td>\n      <td>TeamOne</td>\n      <td>Recon 5</td>\n      <td>1</td>\n      <td>2340454</td>\n      <td>5151</td>\n      <td>3</td>\n      <td>123412</td>\n      <td>Vertigo</td>\n      <td>Train</td>\n      <td>0.0</td>\n      <td>Nuke</td>\n      <td>Overpass</td>\n      <td>0.0</td>\n      <td>Dust2</td>\n      <td>Inferno</td>\n      <td>Mirage</td>\n    </tr>\n    <tr>\n      <th>1</th>\n      <td>2020-03-18</td>\n      <td>Rugratz</td>\n      <td>Bad News Bears</td>\n      <td>0</td>\n      <td>2340453</td>\n      <td>5151</td>\n      <td>3</td>\n      <td>123412</td>\n      <td>Dust2</td>\n      <td>Nuke</td>\n      <td>0.0</td>\n      <td>Mirage</td>\n      <td>Train</td>\n      <td>0.0</td>\n      <td>Vertigo</td>\n      <td>Inferno</td>\n      <td>Overpass</td>\n    </tr>\n    <tr>\n      <th>2</th>\n      <td>2020-03-18</td>\n      <td>New England Whalers</td>\n      <td>Station7</td>\n      <td>0</td>\n      <td>2340461</td>\n      <td>5243</td>\n      <td>1</td>\n      <td>121212</td>\n      <td>Mirage</td>\n      <td>Dust2</td>\n      <td>Vertigo</td>\n      <td>Nuke</td>\n      <td>Train</td>\n      <td>Overpass</td>\n      <td>0.0</td>\n      <td>0.0</td>\n      <td>Inferno</td>\n    </tr>\n    <tr>\n      <th>3</th>\n      <td>2020-03-17</td>\n      <td>Complexity</td>\n      <td>forZe</td>\n      <td>1</td>\n      <td>2340279</td>\n      <td>5226</td>\n      <td>3</td>\n      <td>123412</td>\n      <td>Inferno</td>\n      <td>Nuke</td>\n      <td>0.0</td>\n      <td>Overpass</td>\n      <td>Vertigo</td>\n      <td>0.0</td>\n      <td>Dust2</td>\n      <td>Train</td>\n      <td>Mirage</td>\n    </tr>\n    <tr>\n      <th>4</th>\n      <td>2020-03-17</td>\n      <td>Singularity</td>\n      <td>Endpoint</td>\n      <td>0</td>\n      <td>2340456</td>\n      <td>5247</td>\n      <td>3</td>\n      <td>123412</td>\n      <td>Train</td>\n      <td>Mirage</td>\n      <td>0.0</td>\n      <td>Nuke</td>\n      <td>Inferno</td>\n      <td>0.0</td>\n      <td>Overpass</td>\n      <td>Vertigo</td>\n      <td>Dust2</td>\n    </tr>\n  </tbody>\n</table>\n</div>"
     },
     "execution_count": 48,
     "metadata": {},
     "output_type": "execute_result"
    }
   ],
   "source": [
    "print(len(picks_df))\n",
    "picks_df.head()"
   ],
   "metadata": {
    "collapsed": false,
    "pycharm": {
     "name": "#%%\n"
    }
   }
  },
  {
   "cell_type": "code",
   "execution_count": 49,
   "outputs": [
    {
     "name": "stdout",
     "output_type": "stream",
     "text": [
      "383317\n"
     ]
    },
    {
     "data": {
      "text/plain": "         date player_name           team       opponent        country  \\\n0  2020-02-26      Brehze  Evil Geniuses         Liquid  United States   \n1  2020-02-26        CeRq  Evil Geniuses         Liquid       Bulgaria   \n2  2020-02-26       EliGE         Liquid  Evil Geniuses  United States   \n3  2020-02-26       Ethan  Evil Geniuses         Liquid  United States   \n4  2020-02-26         NAF         Liquid  Evil Geniuses         Canada   \n\n   player_id  match_id  event_id         event_name  best_of  ...  \\\n0       9136   2339385      4901  IEM Katowice 2020        3  ...   \n1      11219   2339385      4901  IEM Katowice 2020        3  ...   \n2       8738   2339385      4901  IEM Katowice 2020        3  ...   \n3      10671   2339385      4901  IEM Katowice 2020        3  ...   \n4       8520   2339385      4901  IEM Katowice 2020        3  ...   \n\n  m3_kddiff_ct m3_adr_ct m3_kast_ct  m3_rating_ct  m3_kills_t  m3_deaths_t  \\\n0         -1.0      72.5       80.0          0.93         7.0          9.0   \n1          3.0      79.5       53.3          1.12         4.0          8.0   \n2          1.0      81.5       63.6          1.03         9.0          9.0   \n3          0.0      67.2       66.7          0.97         1.0          9.0   \n4         -1.0      72.9       81.8          0.96         8.0          7.0   \n\n   m3_kddiff_t  m3_adr_t  m3_kast_t  m3_rating_t  \n0         -2.0      70.4       63.6         0.89  \n1         -4.0      40.7       54.5         0.53  \n2          0.0      87.9       73.3         1.05  \n3         -8.0      14.8       45.5         0.31  \n4          1.0      56.3       80.0         0.99  \n\n[5 rows x 101 columns]",
      "text/html": "<div>\n<style scoped>\n    .dataframe tbody tr th:only-of-type {\n        vertical-align: middle;\n    }\n\n    .dataframe tbody tr th {\n        vertical-align: top;\n    }\n\n    .dataframe thead th {\n        text-align: right;\n    }\n</style>\n<table border=\"1\" class=\"dataframe\">\n  <thead>\n    <tr style=\"text-align: right;\">\n      <th></th>\n      <th>date</th>\n      <th>player_name</th>\n      <th>team</th>\n      <th>opponent</th>\n      <th>country</th>\n      <th>player_id</th>\n      <th>match_id</th>\n      <th>event_id</th>\n      <th>event_name</th>\n      <th>best_of</th>\n      <th>...</th>\n      <th>m3_kddiff_ct</th>\n      <th>m3_adr_ct</th>\n      <th>m3_kast_ct</th>\n      <th>m3_rating_ct</th>\n      <th>m3_kills_t</th>\n      <th>m3_deaths_t</th>\n      <th>m3_kddiff_t</th>\n      <th>m3_adr_t</th>\n      <th>m3_kast_t</th>\n      <th>m3_rating_t</th>\n    </tr>\n  </thead>\n  <tbody>\n    <tr>\n      <th>0</th>\n      <td>2020-02-26</td>\n      <td>Brehze</td>\n      <td>Evil Geniuses</td>\n      <td>Liquid</td>\n      <td>United States</td>\n      <td>9136</td>\n      <td>2339385</td>\n      <td>4901</td>\n      <td>IEM Katowice 2020</td>\n      <td>3</td>\n      <td>...</td>\n      <td>-1.0</td>\n      <td>72.5</td>\n      <td>80.0</td>\n      <td>0.93</td>\n      <td>7.0</td>\n      <td>9.0</td>\n      <td>-2.0</td>\n      <td>70.4</td>\n      <td>63.6</td>\n      <td>0.89</td>\n    </tr>\n    <tr>\n      <th>1</th>\n      <td>2020-02-26</td>\n      <td>CeRq</td>\n      <td>Evil Geniuses</td>\n      <td>Liquid</td>\n      <td>Bulgaria</td>\n      <td>11219</td>\n      <td>2339385</td>\n      <td>4901</td>\n      <td>IEM Katowice 2020</td>\n      <td>3</td>\n      <td>...</td>\n      <td>3.0</td>\n      <td>79.5</td>\n      <td>53.3</td>\n      <td>1.12</td>\n      <td>4.0</td>\n      <td>8.0</td>\n      <td>-4.0</td>\n      <td>40.7</td>\n      <td>54.5</td>\n      <td>0.53</td>\n    </tr>\n    <tr>\n      <th>2</th>\n      <td>2020-02-26</td>\n      <td>EliGE</td>\n      <td>Liquid</td>\n      <td>Evil Geniuses</td>\n      <td>United States</td>\n      <td>8738</td>\n      <td>2339385</td>\n      <td>4901</td>\n      <td>IEM Katowice 2020</td>\n      <td>3</td>\n      <td>...</td>\n      <td>1.0</td>\n      <td>81.5</td>\n      <td>63.6</td>\n      <td>1.03</td>\n      <td>9.0</td>\n      <td>9.0</td>\n      <td>0.0</td>\n      <td>87.9</td>\n      <td>73.3</td>\n      <td>1.05</td>\n    </tr>\n    <tr>\n      <th>3</th>\n      <td>2020-02-26</td>\n      <td>Ethan</td>\n      <td>Evil Geniuses</td>\n      <td>Liquid</td>\n      <td>United States</td>\n      <td>10671</td>\n      <td>2339385</td>\n      <td>4901</td>\n      <td>IEM Katowice 2020</td>\n      <td>3</td>\n      <td>...</td>\n      <td>0.0</td>\n      <td>67.2</td>\n      <td>66.7</td>\n      <td>0.97</td>\n      <td>1.0</td>\n      <td>9.0</td>\n      <td>-8.0</td>\n      <td>14.8</td>\n      <td>45.5</td>\n      <td>0.31</td>\n    </tr>\n    <tr>\n      <th>4</th>\n      <td>2020-02-26</td>\n      <td>NAF</td>\n      <td>Liquid</td>\n      <td>Evil Geniuses</td>\n      <td>Canada</td>\n      <td>8520</td>\n      <td>2339385</td>\n      <td>4901</td>\n      <td>IEM Katowice 2020</td>\n      <td>3</td>\n      <td>...</td>\n      <td>-1.0</td>\n      <td>72.9</td>\n      <td>81.8</td>\n      <td>0.96</td>\n      <td>8.0</td>\n      <td>7.0</td>\n      <td>1.0</td>\n      <td>56.3</td>\n      <td>80.0</td>\n      <td>0.99</td>\n    </tr>\n  </tbody>\n</table>\n<p>5 rows × 101 columns</p>\n</div>"
     },
     "execution_count": 49,
     "metadata": {},
     "output_type": "execute_result"
    }
   ],
   "source": [
    "print(len(players_df))\n",
    "players_df.head()"
   ],
   "metadata": {
    "collapsed": false,
    "pycharm": {
     "name": "#%%\n"
    }
   }
  },
  {
   "cell_type": "code",
   "execution_count": 50,
   "outputs": [
    {
     "name": "stdout",
     "output_type": "stream",
     "text": [
      "43234\n"
     ]
    },
    {
     "data": {
      "text/plain": "         date  match_id  event_id         team_1         team_2 best_of  \\\n0  2020-03-01   2339402      4901             G2  Natus Vincere       5   \n1  2020-03-01   2339402      4901             G2  Natus Vincere       5   \n2  2020-03-01   2339402      4901             G2  Natus Vincere       5   \n3  2020-02-29   2339401      4901  Natus Vincere       Astralis       3   \n4  2020-02-29   2339401      4901  Natus Vincere       Astralis       3   \n\n     _map t1_start t2_start    1_t1  ...  21_winner  22_winner  23_winner  \\\n0    Nuke        t       ct  4350.0  ...        NaN        NaN        NaN   \n1   Dust2       ct        t  3900.0  ...        2.0        1.0        1.0   \n2  Mirage        t       ct  4150.0  ...        NaN        NaN        NaN   \n3   Dust2        t       ct  4150.0  ...        1.0        NaN        NaN   \n4    Nuke       ct        t  4200.0  ...        1.0        NaN        NaN   \n\n   24_winner  25_winner  26_winner  27_winner  28_winner  29_winner  30_winner  \n0        NaN        NaN        NaN        NaN        NaN        NaN        NaN  \n1        1.0        1.0        1.0        2.0        2.0        2.0        NaN  \n2        NaN        NaN        NaN        NaN        NaN        NaN        NaN  \n3        NaN        NaN        NaN        NaN        NaN        NaN        NaN  \n4        NaN        NaN        NaN        NaN        NaN        NaN        NaN  \n\n[5 rows x 99 columns]",
      "text/html": "<div>\n<style scoped>\n    .dataframe tbody tr th:only-of-type {\n        vertical-align: middle;\n    }\n\n    .dataframe tbody tr th {\n        vertical-align: top;\n    }\n\n    .dataframe thead th {\n        text-align: right;\n    }\n</style>\n<table border=\"1\" class=\"dataframe\">\n  <thead>\n    <tr style=\"text-align: right;\">\n      <th></th>\n      <th>date</th>\n      <th>match_id</th>\n      <th>event_id</th>\n      <th>team_1</th>\n      <th>team_2</th>\n      <th>best_of</th>\n      <th>_map</th>\n      <th>t1_start</th>\n      <th>t2_start</th>\n      <th>1_t1</th>\n      <th>...</th>\n      <th>21_winner</th>\n      <th>22_winner</th>\n      <th>23_winner</th>\n      <th>24_winner</th>\n      <th>25_winner</th>\n      <th>26_winner</th>\n      <th>27_winner</th>\n      <th>28_winner</th>\n      <th>29_winner</th>\n      <th>30_winner</th>\n    </tr>\n  </thead>\n  <tbody>\n    <tr>\n      <th>0</th>\n      <td>2020-03-01</td>\n      <td>2339402</td>\n      <td>4901</td>\n      <td>G2</td>\n      <td>Natus Vincere</td>\n      <td>5</td>\n      <td>Nuke</td>\n      <td>t</td>\n      <td>ct</td>\n      <td>4350.0</td>\n      <td>...</td>\n      <td>NaN</td>\n      <td>NaN</td>\n      <td>NaN</td>\n      <td>NaN</td>\n      <td>NaN</td>\n      <td>NaN</td>\n      <td>NaN</td>\n      <td>NaN</td>\n      <td>NaN</td>\n      <td>NaN</td>\n    </tr>\n    <tr>\n      <th>1</th>\n      <td>2020-03-01</td>\n      <td>2339402</td>\n      <td>4901</td>\n      <td>G2</td>\n      <td>Natus Vincere</td>\n      <td>5</td>\n      <td>Dust2</td>\n      <td>ct</td>\n      <td>t</td>\n      <td>3900.0</td>\n      <td>...</td>\n      <td>2.0</td>\n      <td>1.0</td>\n      <td>1.0</td>\n      <td>1.0</td>\n      <td>1.0</td>\n      <td>1.0</td>\n      <td>2.0</td>\n      <td>2.0</td>\n      <td>2.0</td>\n      <td>NaN</td>\n    </tr>\n    <tr>\n      <th>2</th>\n      <td>2020-03-01</td>\n      <td>2339402</td>\n      <td>4901</td>\n      <td>G2</td>\n      <td>Natus Vincere</td>\n      <td>5</td>\n      <td>Mirage</td>\n      <td>t</td>\n      <td>ct</td>\n      <td>4150.0</td>\n      <td>...</td>\n      <td>NaN</td>\n      <td>NaN</td>\n      <td>NaN</td>\n      <td>NaN</td>\n      <td>NaN</td>\n      <td>NaN</td>\n      <td>NaN</td>\n      <td>NaN</td>\n      <td>NaN</td>\n      <td>NaN</td>\n    </tr>\n    <tr>\n      <th>3</th>\n      <td>2020-02-29</td>\n      <td>2339401</td>\n      <td>4901</td>\n      <td>Natus Vincere</td>\n      <td>Astralis</td>\n      <td>3</td>\n      <td>Dust2</td>\n      <td>t</td>\n      <td>ct</td>\n      <td>4150.0</td>\n      <td>...</td>\n      <td>1.0</td>\n      <td>NaN</td>\n      <td>NaN</td>\n      <td>NaN</td>\n      <td>NaN</td>\n      <td>NaN</td>\n      <td>NaN</td>\n      <td>NaN</td>\n      <td>NaN</td>\n      <td>NaN</td>\n    </tr>\n    <tr>\n      <th>4</th>\n      <td>2020-02-29</td>\n      <td>2339401</td>\n      <td>4901</td>\n      <td>Natus Vincere</td>\n      <td>Astralis</td>\n      <td>3</td>\n      <td>Nuke</td>\n      <td>ct</td>\n      <td>t</td>\n      <td>4200.0</td>\n      <td>...</td>\n      <td>1.0</td>\n      <td>NaN</td>\n      <td>NaN</td>\n      <td>NaN</td>\n      <td>NaN</td>\n      <td>NaN</td>\n      <td>NaN</td>\n      <td>NaN</td>\n      <td>NaN</td>\n      <td>NaN</td>\n    </tr>\n  </tbody>\n</table>\n<p>5 rows × 99 columns</p>\n</div>"
     },
     "execution_count": 50,
     "metadata": {},
     "output_type": "execute_result"
    }
   ],
   "source": [
    "print(len(economy_df))\n",
    "economy_df.head()"
   ],
   "metadata": {
    "collapsed": false,
    "pycharm": {
     "name": "#%%\n"
    }
   }
  },
  {
   "cell_type": "code",
   "execution_count": 51,
   "outputs": [],
   "source": [
    "minimum_rank = 30\n",
    "\n",
    "results_df = results_df[(results_df.rank_1<minimum_rank)&(results_df.rank_2<minimum_rank)]\n",
    "picks_df     = picks_df[picks_df.match_id.isin(results_df.match_id.unique())]\n",
    "economy_df   = economy_df[economy_df.match_id.isin(results_df.match_id.unique())]\n",
    "players_df   = players_df[players_df.match_id.isin(results_df.match_id.unique())]\n",
    "\n",
    "results_df.reset_index(drop='True',inplace=True)\n",
    "picks_df.reset_index(drop='True',inplace=True)\n",
    "players_df.reset_index(drop='True',inplace=True)\n",
    "economy_df.reset_index(drop='True',inplace=True)"
   ],
   "metadata": {
    "collapsed": false,
    "pycharm": {
     "name": "#%%\n"
    }
   }
  },
  {
   "cell_type": "code",
   "execution_count": 52,
   "outputs": [
    {
     "name": "stdout",
     "output_type": "stream",
     "text": [
      "9017\n"
     ]
    },
    {
     "data": {
      "text/plain": "         date         team_1      team_2      _map  result_1  result_2  \\\n0  2020-03-17         fnatic         BIG    Mirage        12        16   \n1  2020-03-17         fnatic         BIG  Overpass        16         7   \n2  2020-03-17  Natus Vincere       North      Nuke        10        16   \n3  2020-03-17  Natus Vincere       North     Dust2        10        16   \n4  2020-03-17          forZe  Complexity     Train         9        16   \n\n   map_winner  starting_ct  ct_1  t_2  t_1  ct_2  event_id  match_id  rank_1  \\\n0           2            1     9    6    3    10      5226   2340397       5   \n1           1            2     4    4   12     3      5226   2340397       5   \n2           2            1     7    8    3     8      5226   2340396       1   \n3           2            1     5   10    5     6      5226   2340396       1   \n4           2            2     3    7    6     9      5226   2340279      24   \n\n   rank_2  map_wins_1  map_wins_2  match_winner  \n0      18           1           2             2  \n1      18           1           2             2  \n2      23           0           2             2  \n3      23           0           2             2  \n4      17           2           1             1  ",
      "text/html": "<div>\n<style scoped>\n    .dataframe tbody tr th:only-of-type {\n        vertical-align: middle;\n    }\n\n    .dataframe tbody tr th {\n        vertical-align: top;\n    }\n\n    .dataframe thead th {\n        text-align: right;\n    }\n</style>\n<table border=\"1\" class=\"dataframe\">\n  <thead>\n    <tr style=\"text-align: right;\">\n      <th></th>\n      <th>date</th>\n      <th>team_1</th>\n      <th>team_2</th>\n      <th>_map</th>\n      <th>result_1</th>\n      <th>result_2</th>\n      <th>map_winner</th>\n      <th>starting_ct</th>\n      <th>ct_1</th>\n      <th>t_2</th>\n      <th>t_1</th>\n      <th>ct_2</th>\n      <th>event_id</th>\n      <th>match_id</th>\n      <th>rank_1</th>\n      <th>rank_2</th>\n      <th>map_wins_1</th>\n      <th>map_wins_2</th>\n      <th>match_winner</th>\n    </tr>\n  </thead>\n  <tbody>\n    <tr>\n      <th>0</th>\n      <td>2020-03-17</td>\n      <td>fnatic</td>\n      <td>BIG</td>\n      <td>Mirage</td>\n      <td>12</td>\n      <td>16</td>\n      <td>2</td>\n      <td>1</td>\n      <td>9</td>\n      <td>6</td>\n      <td>3</td>\n      <td>10</td>\n      <td>5226</td>\n      <td>2340397</td>\n      <td>5</td>\n      <td>18</td>\n      <td>1</td>\n      <td>2</td>\n      <td>2</td>\n    </tr>\n    <tr>\n      <th>1</th>\n      <td>2020-03-17</td>\n      <td>fnatic</td>\n      <td>BIG</td>\n      <td>Overpass</td>\n      <td>16</td>\n      <td>7</td>\n      <td>1</td>\n      <td>2</td>\n      <td>4</td>\n      <td>4</td>\n      <td>12</td>\n      <td>3</td>\n      <td>5226</td>\n      <td>2340397</td>\n      <td>5</td>\n      <td>18</td>\n      <td>1</td>\n      <td>2</td>\n      <td>2</td>\n    </tr>\n    <tr>\n      <th>2</th>\n      <td>2020-03-17</td>\n      <td>Natus Vincere</td>\n      <td>North</td>\n      <td>Nuke</td>\n      <td>10</td>\n      <td>16</td>\n      <td>2</td>\n      <td>1</td>\n      <td>7</td>\n      <td>8</td>\n      <td>3</td>\n      <td>8</td>\n      <td>5226</td>\n      <td>2340396</td>\n      <td>1</td>\n      <td>23</td>\n      <td>0</td>\n      <td>2</td>\n      <td>2</td>\n    </tr>\n    <tr>\n      <th>3</th>\n      <td>2020-03-17</td>\n      <td>Natus Vincere</td>\n      <td>North</td>\n      <td>Dust2</td>\n      <td>10</td>\n      <td>16</td>\n      <td>2</td>\n      <td>1</td>\n      <td>5</td>\n      <td>10</td>\n      <td>5</td>\n      <td>6</td>\n      <td>5226</td>\n      <td>2340396</td>\n      <td>1</td>\n      <td>23</td>\n      <td>0</td>\n      <td>2</td>\n      <td>2</td>\n    </tr>\n    <tr>\n      <th>4</th>\n      <td>2020-03-17</td>\n      <td>forZe</td>\n      <td>Complexity</td>\n      <td>Train</td>\n      <td>9</td>\n      <td>16</td>\n      <td>2</td>\n      <td>2</td>\n      <td>3</td>\n      <td>7</td>\n      <td>6</td>\n      <td>9</td>\n      <td>5226</td>\n      <td>2340279</td>\n      <td>24</td>\n      <td>17</td>\n      <td>2</td>\n      <td>1</td>\n      <td>1</td>\n    </tr>\n  </tbody>\n</table>\n</div>"
     },
     "execution_count": 52,
     "metadata": {},
     "output_type": "execute_result"
    }
   ],
   "source": [
    "print(len(results_df))\n",
    "results_df.head()"
   ],
   "metadata": {
    "collapsed": false,
    "pycharm": {
     "name": "#%%\n"
    }
   }
  },
  {
   "cell_type": "code",
   "execution_count": 53,
   "outputs": [
    {
     "name": "stdout",
     "output_type": "stream",
     "text": [
      "2766\n"
     ]
    },
    {
     "data": {
      "text/plain": "         date      team_1         team_2  inverted_teams  match_id  event_id  \\\n0  2020-03-17  Complexity          forZe               1   2340279      5226   \n1  2020-03-17         BIG         fnatic               1   2340397      5226   \n2  2020-03-17       North  Natus Vincere               1   2340396      5226   \n3  2020-03-16      Spirit           ENCE               1   2340391      5226   \n4  2020-03-16     GODSENT       Vitality               1   2340063      5226   \n\n  best_of  system t1_removed_1 t1_removed_2 t1_removed_3 t2_removed_1  \\\n0       3  123412      Inferno         Nuke          0.0     Overpass   \n1       3  123412        Train        Dust2          0.0         Nuke   \n2       3  123412        Train      Inferno          0.0      Vertigo   \n3       3  123412     Overpass        Dust2          0.0      Vertigo   \n4       3  123412       Mirage     Overpass          0.0        Train   \n\n  t2_removed_2 t2_removed_3 t1_picked_1 t2_picked_1 left_over  \n0      Vertigo          0.0       Dust2       Train    Mirage  \n1      Vertigo          0.0     Inferno    Overpass    Mirage  \n2       Mirage          0.0        Nuke       Dust2  Overpass  \n3         Nuke          0.0     Inferno       Train    Mirage  \n4      Inferno          0.0     Vertigo        Nuke     Dust2  ",
      "text/html": "<div>\n<style scoped>\n    .dataframe tbody tr th:only-of-type {\n        vertical-align: middle;\n    }\n\n    .dataframe tbody tr th {\n        vertical-align: top;\n    }\n\n    .dataframe thead th {\n        text-align: right;\n    }\n</style>\n<table border=\"1\" class=\"dataframe\">\n  <thead>\n    <tr style=\"text-align: right;\">\n      <th></th>\n      <th>date</th>\n      <th>team_1</th>\n      <th>team_2</th>\n      <th>inverted_teams</th>\n      <th>match_id</th>\n      <th>event_id</th>\n      <th>best_of</th>\n      <th>system</th>\n      <th>t1_removed_1</th>\n      <th>t1_removed_2</th>\n      <th>t1_removed_3</th>\n      <th>t2_removed_1</th>\n      <th>t2_removed_2</th>\n      <th>t2_removed_3</th>\n      <th>t1_picked_1</th>\n      <th>t2_picked_1</th>\n      <th>left_over</th>\n    </tr>\n  </thead>\n  <tbody>\n    <tr>\n      <th>0</th>\n      <td>2020-03-17</td>\n      <td>Complexity</td>\n      <td>forZe</td>\n      <td>1</td>\n      <td>2340279</td>\n      <td>5226</td>\n      <td>3</td>\n      <td>123412</td>\n      <td>Inferno</td>\n      <td>Nuke</td>\n      <td>0.0</td>\n      <td>Overpass</td>\n      <td>Vertigo</td>\n      <td>0.0</td>\n      <td>Dust2</td>\n      <td>Train</td>\n      <td>Mirage</td>\n    </tr>\n    <tr>\n      <th>1</th>\n      <td>2020-03-17</td>\n      <td>BIG</td>\n      <td>fnatic</td>\n      <td>1</td>\n      <td>2340397</td>\n      <td>5226</td>\n      <td>3</td>\n      <td>123412</td>\n      <td>Train</td>\n      <td>Dust2</td>\n      <td>0.0</td>\n      <td>Nuke</td>\n      <td>Vertigo</td>\n      <td>0.0</td>\n      <td>Inferno</td>\n      <td>Overpass</td>\n      <td>Mirage</td>\n    </tr>\n    <tr>\n      <th>2</th>\n      <td>2020-03-17</td>\n      <td>North</td>\n      <td>Natus Vincere</td>\n      <td>1</td>\n      <td>2340396</td>\n      <td>5226</td>\n      <td>3</td>\n      <td>123412</td>\n      <td>Train</td>\n      <td>Inferno</td>\n      <td>0.0</td>\n      <td>Vertigo</td>\n      <td>Mirage</td>\n      <td>0.0</td>\n      <td>Nuke</td>\n      <td>Dust2</td>\n      <td>Overpass</td>\n    </tr>\n    <tr>\n      <th>3</th>\n      <td>2020-03-16</td>\n      <td>Spirit</td>\n      <td>ENCE</td>\n      <td>1</td>\n      <td>2340391</td>\n      <td>5226</td>\n      <td>3</td>\n      <td>123412</td>\n      <td>Overpass</td>\n      <td>Dust2</td>\n      <td>0.0</td>\n      <td>Vertigo</td>\n      <td>Nuke</td>\n      <td>0.0</td>\n      <td>Inferno</td>\n      <td>Train</td>\n      <td>Mirage</td>\n    </tr>\n    <tr>\n      <th>4</th>\n      <td>2020-03-16</td>\n      <td>GODSENT</td>\n      <td>Vitality</td>\n      <td>1</td>\n      <td>2340063</td>\n      <td>5226</td>\n      <td>3</td>\n      <td>123412</td>\n      <td>Mirage</td>\n      <td>Overpass</td>\n      <td>0.0</td>\n      <td>Train</td>\n      <td>Inferno</td>\n      <td>0.0</td>\n      <td>Vertigo</td>\n      <td>Nuke</td>\n      <td>Dust2</td>\n    </tr>\n  </tbody>\n</table>\n</div>"
     },
     "execution_count": 53,
     "metadata": {},
     "output_type": "execute_result"
    }
   ],
   "source": [
    "print(len(picks_df))\n",
    "picks_df.head()"
   ],
   "metadata": {
    "collapsed": false,
    "pycharm": {
     "name": "#%%\n"
    }
   }
  },
  {
   "cell_type": "code",
   "execution_count": 54,
   "outputs": [
    {
     "name": "stdout",
     "output_type": "stream",
     "text": [
      "55625\n"
     ]
    },
    {
     "data": {
      "text/plain": "         date player_name           team       opponent        country  \\\n0  2020-02-26      Brehze  Evil Geniuses         Liquid  United States   \n1  2020-02-26        CeRq  Evil Geniuses         Liquid       Bulgaria   \n2  2020-02-26       EliGE         Liquid  Evil Geniuses  United States   \n3  2020-02-26       Ethan  Evil Geniuses         Liquid  United States   \n4  2020-02-26         NAF         Liquid  Evil Geniuses         Canada   \n\n   player_id  match_id  event_id         event_name  best_of  ...  \\\n0       9136   2339385      4901  IEM Katowice 2020        3  ...   \n1      11219   2339385      4901  IEM Katowice 2020        3  ...   \n2       8738   2339385      4901  IEM Katowice 2020        3  ...   \n3      10671   2339385      4901  IEM Katowice 2020        3  ...   \n4       8520   2339385      4901  IEM Katowice 2020        3  ...   \n\n  m3_kddiff_ct m3_adr_ct m3_kast_ct  m3_rating_ct  m3_kills_t  m3_deaths_t  \\\n0         -1.0      72.5       80.0          0.93         7.0          9.0   \n1          3.0      79.5       53.3          1.12         4.0          8.0   \n2          1.0      81.5       63.6          1.03         9.0          9.0   \n3          0.0      67.2       66.7          0.97         1.0          9.0   \n4         -1.0      72.9       81.8          0.96         8.0          7.0   \n\n   m3_kddiff_t  m3_adr_t  m3_kast_t  m3_rating_t  \n0         -2.0      70.4       63.6         0.89  \n1         -4.0      40.7       54.5         0.53  \n2          0.0      87.9       73.3         1.05  \n3         -8.0      14.8       45.5         0.31  \n4          1.0      56.3       80.0         0.99  \n\n[5 rows x 101 columns]",
      "text/html": "<div>\n<style scoped>\n    .dataframe tbody tr th:only-of-type {\n        vertical-align: middle;\n    }\n\n    .dataframe tbody tr th {\n        vertical-align: top;\n    }\n\n    .dataframe thead th {\n        text-align: right;\n    }\n</style>\n<table border=\"1\" class=\"dataframe\">\n  <thead>\n    <tr style=\"text-align: right;\">\n      <th></th>\n      <th>date</th>\n      <th>player_name</th>\n      <th>team</th>\n      <th>opponent</th>\n      <th>country</th>\n      <th>player_id</th>\n      <th>match_id</th>\n      <th>event_id</th>\n      <th>event_name</th>\n      <th>best_of</th>\n      <th>...</th>\n      <th>m3_kddiff_ct</th>\n      <th>m3_adr_ct</th>\n      <th>m3_kast_ct</th>\n      <th>m3_rating_ct</th>\n      <th>m3_kills_t</th>\n      <th>m3_deaths_t</th>\n      <th>m3_kddiff_t</th>\n      <th>m3_adr_t</th>\n      <th>m3_kast_t</th>\n      <th>m3_rating_t</th>\n    </tr>\n  </thead>\n  <tbody>\n    <tr>\n      <th>0</th>\n      <td>2020-02-26</td>\n      <td>Brehze</td>\n      <td>Evil Geniuses</td>\n      <td>Liquid</td>\n      <td>United States</td>\n      <td>9136</td>\n      <td>2339385</td>\n      <td>4901</td>\n      <td>IEM Katowice 2020</td>\n      <td>3</td>\n      <td>...</td>\n      <td>-1.0</td>\n      <td>72.5</td>\n      <td>80.0</td>\n      <td>0.93</td>\n      <td>7.0</td>\n      <td>9.0</td>\n      <td>-2.0</td>\n      <td>70.4</td>\n      <td>63.6</td>\n      <td>0.89</td>\n    </tr>\n    <tr>\n      <th>1</th>\n      <td>2020-02-26</td>\n      <td>CeRq</td>\n      <td>Evil Geniuses</td>\n      <td>Liquid</td>\n      <td>Bulgaria</td>\n      <td>11219</td>\n      <td>2339385</td>\n      <td>4901</td>\n      <td>IEM Katowice 2020</td>\n      <td>3</td>\n      <td>...</td>\n      <td>3.0</td>\n      <td>79.5</td>\n      <td>53.3</td>\n      <td>1.12</td>\n      <td>4.0</td>\n      <td>8.0</td>\n      <td>-4.0</td>\n      <td>40.7</td>\n      <td>54.5</td>\n      <td>0.53</td>\n    </tr>\n    <tr>\n      <th>2</th>\n      <td>2020-02-26</td>\n      <td>EliGE</td>\n      <td>Liquid</td>\n      <td>Evil Geniuses</td>\n      <td>United States</td>\n      <td>8738</td>\n      <td>2339385</td>\n      <td>4901</td>\n      <td>IEM Katowice 2020</td>\n      <td>3</td>\n      <td>...</td>\n      <td>1.0</td>\n      <td>81.5</td>\n      <td>63.6</td>\n      <td>1.03</td>\n      <td>9.0</td>\n      <td>9.0</td>\n      <td>0.0</td>\n      <td>87.9</td>\n      <td>73.3</td>\n      <td>1.05</td>\n    </tr>\n    <tr>\n      <th>3</th>\n      <td>2020-02-26</td>\n      <td>Ethan</td>\n      <td>Evil Geniuses</td>\n      <td>Liquid</td>\n      <td>United States</td>\n      <td>10671</td>\n      <td>2339385</td>\n      <td>4901</td>\n      <td>IEM Katowice 2020</td>\n      <td>3</td>\n      <td>...</td>\n      <td>0.0</td>\n      <td>67.2</td>\n      <td>66.7</td>\n      <td>0.97</td>\n      <td>1.0</td>\n      <td>9.0</td>\n      <td>-8.0</td>\n      <td>14.8</td>\n      <td>45.5</td>\n      <td>0.31</td>\n    </tr>\n    <tr>\n      <th>4</th>\n      <td>2020-02-26</td>\n      <td>NAF</td>\n      <td>Liquid</td>\n      <td>Evil Geniuses</td>\n      <td>Canada</td>\n      <td>8520</td>\n      <td>2339385</td>\n      <td>4901</td>\n      <td>IEM Katowice 2020</td>\n      <td>3</td>\n      <td>...</td>\n      <td>-1.0</td>\n      <td>72.9</td>\n      <td>81.8</td>\n      <td>0.96</td>\n      <td>8.0</td>\n      <td>7.0</td>\n      <td>1.0</td>\n      <td>56.3</td>\n      <td>80.0</td>\n      <td>0.99</td>\n    </tr>\n  </tbody>\n</table>\n<p>5 rows × 101 columns</p>\n</div>"
     },
     "execution_count": 54,
     "metadata": {},
     "output_type": "execute_result"
    }
   ],
   "source": [
    "print(len(players_df))\n",
    "players_df.head()"
   ],
   "metadata": {
    "collapsed": false,
    "pycharm": {
     "name": "#%%\n"
    }
   }
  },
  {
   "cell_type": "code",
   "execution_count": 55,
   "outputs": [
    {
     "name": "stdout",
     "output_type": "stream",
     "text": [
      "5424\n"
     ]
    },
    {
     "data": {
      "text/plain": "         date  match_id  event_id         team_1         team_2 best_of  \\\n0  2020-03-01   2339402      4901             G2  Natus Vincere       5   \n1  2020-03-01   2339402      4901             G2  Natus Vincere       5   \n2  2020-03-01   2339402      4901             G2  Natus Vincere       5   \n3  2020-02-29   2339401      4901  Natus Vincere       Astralis       3   \n4  2020-02-29   2339401      4901  Natus Vincere       Astralis       3   \n\n     _map t1_start t2_start    1_t1  ...  21_winner  22_winner  23_winner  \\\n0    Nuke        t       ct  4350.0  ...        NaN        NaN        NaN   \n1   Dust2       ct        t  3900.0  ...        2.0        1.0        1.0   \n2  Mirage        t       ct  4150.0  ...        NaN        NaN        NaN   \n3   Dust2        t       ct  4150.0  ...        1.0        NaN        NaN   \n4    Nuke       ct        t  4200.0  ...        1.0        NaN        NaN   \n\n   24_winner  25_winner  26_winner  27_winner  28_winner  29_winner  30_winner  \n0        NaN        NaN        NaN        NaN        NaN        NaN        NaN  \n1        1.0        1.0        1.0        2.0        2.0        2.0        NaN  \n2        NaN        NaN        NaN        NaN        NaN        NaN        NaN  \n3        NaN        NaN        NaN        NaN        NaN        NaN        NaN  \n4        NaN        NaN        NaN        NaN        NaN        NaN        NaN  \n\n[5 rows x 99 columns]",
      "text/html": "<div>\n<style scoped>\n    .dataframe tbody tr th:only-of-type {\n        vertical-align: middle;\n    }\n\n    .dataframe tbody tr th {\n        vertical-align: top;\n    }\n\n    .dataframe thead th {\n        text-align: right;\n    }\n</style>\n<table border=\"1\" class=\"dataframe\">\n  <thead>\n    <tr style=\"text-align: right;\">\n      <th></th>\n      <th>date</th>\n      <th>match_id</th>\n      <th>event_id</th>\n      <th>team_1</th>\n      <th>team_2</th>\n      <th>best_of</th>\n      <th>_map</th>\n      <th>t1_start</th>\n      <th>t2_start</th>\n      <th>1_t1</th>\n      <th>...</th>\n      <th>21_winner</th>\n      <th>22_winner</th>\n      <th>23_winner</th>\n      <th>24_winner</th>\n      <th>25_winner</th>\n      <th>26_winner</th>\n      <th>27_winner</th>\n      <th>28_winner</th>\n      <th>29_winner</th>\n      <th>30_winner</th>\n    </tr>\n  </thead>\n  <tbody>\n    <tr>\n      <th>0</th>\n      <td>2020-03-01</td>\n      <td>2339402</td>\n      <td>4901</td>\n      <td>G2</td>\n      <td>Natus Vincere</td>\n      <td>5</td>\n      <td>Nuke</td>\n      <td>t</td>\n      <td>ct</td>\n      <td>4350.0</td>\n      <td>...</td>\n      <td>NaN</td>\n      <td>NaN</td>\n      <td>NaN</td>\n      <td>NaN</td>\n      <td>NaN</td>\n      <td>NaN</td>\n      <td>NaN</td>\n      <td>NaN</td>\n      <td>NaN</td>\n      <td>NaN</td>\n    </tr>\n    <tr>\n      <th>1</th>\n      <td>2020-03-01</td>\n      <td>2339402</td>\n      <td>4901</td>\n      <td>G2</td>\n      <td>Natus Vincere</td>\n      <td>5</td>\n      <td>Dust2</td>\n      <td>ct</td>\n      <td>t</td>\n      <td>3900.0</td>\n      <td>...</td>\n      <td>2.0</td>\n      <td>1.0</td>\n      <td>1.0</td>\n      <td>1.0</td>\n      <td>1.0</td>\n      <td>1.0</td>\n      <td>2.0</td>\n      <td>2.0</td>\n      <td>2.0</td>\n      <td>NaN</td>\n    </tr>\n    <tr>\n      <th>2</th>\n      <td>2020-03-01</td>\n      <td>2339402</td>\n      <td>4901</td>\n      <td>G2</td>\n      <td>Natus Vincere</td>\n      <td>5</td>\n      <td>Mirage</td>\n      <td>t</td>\n      <td>ct</td>\n      <td>4150.0</td>\n      <td>...</td>\n      <td>NaN</td>\n      <td>NaN</td>\n      <td>NaN</td>\n      <td>NaN</td>\n      <td>NaN</td>\n      <td>NaN</td>\n      <td>NaN</td>\n      <td>NaN</td>\n      <td>NaN</td>\n      <td>NaN</td>\n    </tr>\n    <tr>\n      <th>3</th>\n      <td>2020-02-29</td>\n      <td>2339401</td>\n      <td>4901</td>\n      <td>Natus Vincere</td>\n      <td>Astralis</td>\n      <td>3</td>\n      <td>Dust2</td>\n      <td>t</td>\n      <td>ct</td>\n      <td>4150.0</td>\n      <td>...</td>\n      <td>1.0</td>\n      <td>NaN</td>\n      <td>NaN</td>\n      <td>NaN</td>\n      <td>NaN</td>\n      <td>NaN</td>\n      <td>NaN</td>\n      <td>NaN</td>\n      <td>NaN</td>\n      <td>NaN</td>\n    </tr>\n    <tr>\n      <th>4</th>\n      <td>2020-02-29</td>\n      <td>2339401</td>\n      <td>4901</td>\n      <td>Natus Vincere</td>\n      <td>Astralis</td>\n      <td>3</td>\n      <td>Nuke</td>\n      <td>ct</td>\n      <td>t</td>\n      <td>4200.0</td>\n      <td>...</td>\n      <td>1.0</td>\n      <td>NaN</td>\n      <td>NaN</td>\n      <td>NaN</td>\n      <td>NaN</td>\n      <td>NaN</td>\n      <td>NaN</td>\n      <td>NaN</td>\n      <td>NaN</td>\n      <td>NaN</td>\n    </tr>\n  </tbody>\n</table>\n<p>5 rows × 99 columns</p>\n</div>"
     },
     "execution_count": 55,
     "metadata": {},
     "output_type": "execute_result"
    }
   ],
   "source": [
    "print(len(economy_df))\n",
    "economy_df.head()"
   ],
   "metadata": {
    "collapsed": false,
    "pycharm": {
     "name": "#%%\n"
    }
   }
  },
  {
   "cell_type": "code",
   "execution_count": null,
   "outputs": [],
   "source": [],
   "metadata": {
    "collapsed": false,
    "pycharm": {
     "name": "#%%\n"
    }
   }
  }
 ],
 "metadata": {
  "kernelspec": {
   "display_name": "Python 3",
   "language": "python",
   "name": "python3"
  },
  "language_info": {
   "codemirror_mode": {
    "name": "ipython",
    "version": 2
   },
   "file_extension": ".py",
   "mimetype": "text/x-python",
   "name": "python",
   "nbconvert_exporter": "python",
   "pygments_lexer": "ipython2",
   "version": "2.7.6"
  }
 },
 "nbformat": 4,
 "nbformat_minor": 0
}