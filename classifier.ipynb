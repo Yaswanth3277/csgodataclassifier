{
 "cells": [
  {
   "cell_type": "code",
   "execution_count": 211,
   "outputs": [],
   "source": [
    "import pandas as pd\n",
    "import numpy as np\n",
    "import matplotlib.pyplot as plt\n",
    "import seaborn as sns\n",
    "from sklearn.model_selection import train_test_split\n",
    "from sklearn.feature_extraction.text import TfidfVectorizer\n",
    "from sklearn.naive_bayes import MultinomialNB\n",
    "from sklearn.svm import LinearSVC\n",
    "from sklearn.ensemble import RandomForestClassifier\n",
    "from sklearn.metrics import accuracy_score\n",
    "from sklearn.metrics import mean_squared_error\n",
    "from sklearn.linear_model import LogisticRegression\n",
    "from sklearn.neighbors import KNeighborsClassifier\n",
    "from sklearn.naive_bayes import GaussianNB\n",
    "from sklearn.ensemble import RandomForestClassifier,GradientBoostingClassifier\n",
    "from sklearn.tree import DecisionTreeClassifier"
   ],
   "metadata": {
    "collapsed": false,
    "pycharm": {
     "name": "#%%\n"
    }
   }
  },
  {
   "cell_type": "code",
   "execution_count": 212,
   "outputs": [],
   "source": [
    "results_df = pd.read_csv(\"Datasets/results.csv\")"
   ],
   "metadata": {
    "collapsed": false,
    "pycharm": {
     "name": "#%%\n"
    }
   }
  },
  {
   "cell_type": "code",
   "execution_count": 213,
   "outputs": [
    {
     "data": {
      "text/plain": "         date               team_1          team_2     _map  result_1  \\\n0  2020-03-18              Recon 5         TeamOne    Dust2         0   \n1  2020-03-18              Recon 5         TeamOne  Inferno        13   \n2  2020-03-18  New England Whalers        Station7  Inferno        12   \n3  2020-03-18              Rugratz  Bad News Bears  Inferno         7   \n4  2020-03-18              Rugratz  Bad News Bears  Vertigo         8   \n\n   result_2  map_winner  starting_ct  ct_1  t_2  t_1  ct_2  event_id  \\\n0        16           2            2     0    1    0    15      5151   \n1        16           2            2     8    6    5    10      5151   \n2        16           2            1     9    6    3    10      5243   \n3        16           2            2     0    8    7     8      5151   \n4        16           2            2     4    5    4    11      5151   \n\n   match_id  rank_1  rank_2  map_wins_1  map_wins_2  match_winner  \n0   2340454      62      63           0           2             2  \n1   2340454      62      63           0           2             2  \n2   2340461     140     118          12          16             2  \n3   2340453      61      38           0           2             2  \n4   2340453      61      38           0           2             2  ",
      "text/html": "<div>\n<style scoped>\n    .dataframe tbody tr th:only-of-type {\n        vertical-align: middle;\n    }\n\n    .dataframe tbody tr th {\n        vertical-align: top;\n    }\n\n    .dataframe thead th {\n        text-align: right;\n    }\n</style>\n<table border=\"1\" class=\"dataframe\">\n  <thead>\n    <tr style=\"text-align: right;\">\n      <th></th>\n      <th>date</th>\n      <th>team_1</th>\n      <th>team_2</th>\n      <th>_map</th>\n      <th>result_1</th>\n      <th>result_2</th>\n      <th>map_winner</th>\n      <th>starting_ct</th>\n      <th>ct_1</th>\n      <th>t_2</th>\n      <th>t_1</th>\n      <th>ct_2</th>\n      <th>event_id</th>\n      <th>match_id</th>\n      <th>rank_1</th>\n      <th>rank_2</th>\n      <th>map_wins_1</th>\n      <th>map_wins_2</th>\n      <th>match_winner</th>\n    </tr>\n  </thead>\n  <tbody>\n    <tr>\n      <th>0</th>\n      <td>2020-03-18</td>\n      <td>Recon 5</td>\n      <td>TeamOne</td>\n      <td>Dust2</td>\n      <td>0</td>\n      <td>16</td>\n      <td>2</td>\n      <td>2</td>\n      <td>0</td>\n      <td>1</td>\n      <td>0</td>\n      <td>15</td>\n      <td>5151</td>\n      <td>2340454</td>\n      <td>62</td>\n      <td>63</td>\n      <td>0</td>\n      <td>2</td>\n      <td>2</td>\n    </tr>\n    <tr>\n      <th>1</th>\n      <td>2020-03-18</td>\n      <td>Recon 5</td>\n      <td>TeamOne</td>\n      <td>Inferno</td>\n      <td>13</td>\n      <td>16</td>\n      <td>2</td>\n      <td>2</td>\n      <td>8</td>\n      <td>6</td>\n      <td>5</td>\n      <td>10</td>\n      <td>5151</td>\n      <td>2340454</td>\n      <td>62</td>\n      <td>63</td>\n      <td>0</td>\n      <td>2</td>\n      <td>2</td>\n    </tr>\n    <tr>\n      <th>2</th>\n      <td>2020-03-18</td>\n      <td>New England Whalers</td>\n      <td>Station7</td>\n      <td>Inferno</td>\n      <td>12</td>\n      <td>16</td>\n      <td>2</td>\n      <td>1</td>\n      <td>9</td>\n      <td>6</td>\n      <td>3</td>\n      <td>10</td>\n      <td>5243</td>\n      <td>2340461</td>\n      <td>140</td>\n      <td>118</td>\n      <td>12</td>\n      <td>16</td>\n      <td>2</td>\n    </tr>\n    <tr>\n      <th>3</th>\n      <td>2020-03-18</td>\n      <td>Rugratz</td>\n      <td>Bad News Bears</td>\n      <td>Inferno</td>\n      <td>7</td>\n      <td>16</td>\n      <td>2</td>\n      <td>2</td>\n      <td>0</td>\n      <td>8</td>\n      <td>7</td>\n      <td>8</td>\n      <td>5151</td>\n      <td>2340453</td>\n      <td>61</td>\n      <td>38</td>\n      <td>0</td>\n      <td>2</td>\n      <td>2</td>\n    </tr>\n    <tr>\n      <th>4</th>\n      <td>2020-03-18</td>\n      <td>Rugratz</td>\n      <td>Bad News Bears</td>\n      <td>Vertigo</td>\n      <td>8</td>\n      <td>16</td>\n      <td>2</td>\n      <td>2</td>\n      <td>4</td>\n      <td>5</td>\n      <td>4</td>\n      <td>11</td>\n      <td>5151</td>\n      <td>2340453</td>\n      <td>61</td>\n      <td>38</td>\n      <td>0</td>\n      <td>2</td>\n      <td>2</td>\n    </tr>\n  </tbody>\n</table>\n</div>"
     },
     "execution_count": 213,
     "metadata": {},
     "output_type": "execute_result"
    }
   ],
   "source": [
    "results_df.head()"
   ],
   "metadata": {
    "collapsed": false,
    "pycharm": {
     "name": "#%%\n"
    }
   }
  },
  {
   "cell_type": "code",
   "execution_count": 214,
   "outputs": [
    {
     "name": "stdout",
     "output_type": "stream",
     "text": [
      "<class 'pandas.core.frame.DataFrame'>\n",
      "RangeIndex: 45773 entries, 0 to 45772\n",
      "Data columns (total 19 columns):\n",
      " #   Column        Non-Null Count  Dtype \n",
      "---  ------        --------------  ----- \n",
      " 0   date          45773 non-null  object\n",
      " 1   team_1        45773 non-null  object\n",
      " 2   team_2        45773 non-null  object\n",
      " 3   _map          45773 non-null  object\n",
      " 4   result_1      45773 non-null  int64 \n",
      " 5   result_2      45773 non-null  int64 \n",
      " 6   map_winner    45773 non-null  int64 \n",
      " 7   starting_ct   45773 non-null  int64 \n",
      " 8   ct_1          45773 non-null  int64 \n",
      " 9   t_2           45773 non-null  int64 \n",
      " 10  t_1           45773 non-null  int64 \n",
      " 11  ct_2          45773 non-null  int64 \n",
      " 12  event_id      45773 non-null  int64 \n",
      " 13  match_id      45773 non-null  int64 \n",
      " 14  rank_1        45773 non-null  int64 \n",
      " 15  rank_2        45773 non-null  int64 \n",
      " 16  map_wins_1    45773 non-null  int64 \n",
      " 17  map_wins_2    45773 non-null  int64 \n",
      " 18  match_winner  45773 non-null  int64 \n",
      "dtypes: int64(15), object(4)\n",
      "memory usage: 6.6+ MB\n"
     ]
    }
   ],
   "source": [
    "results_df.info()"
   ],
   "metadata": {
    "collapsed": false,
    "pycharm": {
     "name": "#%%\n"
    }
   }
  },
  {
   "cell_type": "code",
   "execution_count": 215,
   "outputs": [
    {
     "data": {
      "text/plain": "           result_1      result_2    map_winner   starting_ct          ct_1  \\\ncount  45773.000000  45773.000000  45773.000000  45773.000000  45773.000000   \nmean      13.385489     12.731545      1.462478      1.501387      6.659515   \nstd        4.417713      4.715722      0.498596      0.500004      3.257815   \nmin        0.000000      0.000000      1.000000      1.000000      0.000000   \n25%       11.000000      9.000000      1.000000      1.000000      4.000000   \n50%       16.000000     16.000000      1.000000      2.000000      7.000000   \n75%       16.000000     16.000000      2.000000      2.000000      9.000000   \nmax       38.000000     41.000000      2.000000      2.000000     15.000000   \n\n                t_2           t_1          ct_2      event_id      match_id  \\\ncount  45773.000000  45773.000000  45773.000000  45773.000000  4.577300e+04   \nmean       6.057283      6.375571      6.335482   3580.790859  2.321278e+06   \nstd        3.161310      3.184036      3.285287    904.337168  1.170610e+04   \nmin        0.000000      0.000000      0.000000    820.000000  2.299001e+06   \n25%        4.000000      4.000000      4.000000   2818.000000  2.311132e+06   \n50%        6.000000      6.000000      6.000000   3572.000000  2.321956e+06   \n75%        8.000000      9.000000      9.000000   4346.000000  2.331691e+06   \nmax       16.000000     15.000000     15.000000   5248.000000  2.340461e+06   \n\n             rank_1        rank_2    map_wins_1    map_wins_2  match_winner  \ncount  45773.000000  45773.000000  45773.000000  45773.000000  45773.000000  \nmean      68.394228     77.289428      4.896708      4.597710      1.464204  \nstd       61.835919     65.708309      6.044017      5.931323      0.498722  \nmin        1.000000      1.000000      0.000000      0.000000      1.000000  \n25%       22.000000     28.000000      1.000000      1.000000      1.000000  \n50%       49.000000     58.000000      2.000000      2.000000      1.000000  \n75%       96.000000    110.000000      8.000000      7.000000      2.000000  \nmax      404.000000    404.000000     34.000000     34.000000      2.000000  ",
      "text/html": "<div>\n<style scoped>\n    .dataframe tbody tr th:only-of-type {\n        vertical-align: middle;\n    }\n\n    .dataframe tbody tr th {\n        vertical-align: top;\n    }\n\n    .dataframe thead th {\n        text-align: right;\n    }\n</style>\n<table border=\"1\" class=\"dataframe\">\n  <thead>\n    <tr style=\"text-align: right;\">\n      <th></th>\n      <th>result_1</th>\n      <th>result_2</th>\n      <th>map_winner</th>\n      <th>starting_ct</th>\n      <th>ct_1</th>\n      <th>t_2</th>\n      <th>t_1</th>\n      <th>ct_2</th>\n      <th>event_id</th>\n      <th>match_id</th>\n      <th>rank_1</th>\n      <th>rank_2</th>\n      <th>map_wins_1</th>\n      <th>map_wins_2</th>\n      <th>match_winner</th>\n    </tr>\n  </thead>\n  <tbody>\n    <tr>\n      <th>count</th>\n      <td>45773.000000</td>\n      <td>45773.000000</td>\n      <td>45773.000000</td>\n      <td>45773.000000</td>\n      <td>45773.000000</td>\n      <td>45773.000000</td>\n      <td>45773.000000</td>\n      <td>45773.000000</td>\n      <td>45773.000000</td>\n      <td>4.577300e+04</td>\n      <td>45773.000000</td>\n      <td>45773.000000</td>\n      <td>45773.000000</td>\n      <td>45773.000000</td>\n      <td>45773.000000</td>\n    </tr>\n    <tr>\n      <th>mean</th>\n      <td>13.385489</td>\n      <td>12.731545</td>\n      <td>1.462478</td>\n      <td>1.501387</td>\n      <td>6.659515</td>\n      <td>6.057283</td>\n      <td>6.375571</td>\n      <td>6.335482</td>\n      <td>3580.790859</td>\n      <td>2.321278e+06</td>\n      <td>68.394228</td>\n      <td>77.289428</td>\n      <td>4.896708</td>\n      <td>4.597710</td>\n      <td>1.464204</td>\n    </tr>\n    <tr>\n      <th>std</th>\n      <td>4.417713</td>\n      <td>4.715722</td>\n      <td>0.498596</td>\n      <td>0.500004</td>\n      <td>3.257815</td>\n      <td>3.161310</td>\n      <td>3.184036</td>\n      <td>3.285287</td>\n      <td>904.337168</td>\n      <td>1.170610e+04</td>\n      <td>61.835919</td>\n      <td>65.708309</td>\n      <td>6.044017</td>\n      <td>5.931323</td>\n      <td>0.498722</td>\n    </tr>\n    <tr>\n      <th>min</th>\n      <td>0.000000</td>\n      <td>0.000000</td>\n      <td>1.000000</td>\n      <td>1.000000</td>\n      <td>0.000000</td>\n      <td>0.000000</td>\n      <td>0.000000</td>\n      <td>0.000000</td>\n      <td>820.000000</td>\n      <td>2.299001e+06</td>\n      <td>1.000000</td>\n      <td>1.000000</td>\n      <td>0.000000</td>\n      <td>0.000000</td>\n      <td>1.000000</td>\n    </tr>\n    <tr>\n      <th>25%</th>\n      <td>11.000000</td>\n      <td>9.000000</td>\n      <td>1.000000</td>\n      <td>1.000000</td>\n      <td>4.000000</td>\n      <td>4.000000</td>\n      <td>4.000000</td>\n      <td>4.000000</td>\n      <td>2818.000000</td>\n      <td>2.311132e+06</td>\n      <td>22.000000</td>\n      <td>28.000000</td>\n      <td>1.000000</td>\n      <td>1.000000</td>\n      <td>1.000000</td>\n    </tr>\n    <tr>\n      <th>50%</th>\n      <td>16.000000</td>\n      <td>16.000000</td>\n      <td>1.000000</td>\n      <td>2.000000</td>\n      <td>7.000000</td>\n      <td>6.000000</td>\n      <td>6.000000</td>\n      <td>6.000000</td>\n      <td>3572.000000</td>\n      <td>2.321956e+06</td>\n      <td>49.000000</td>\n      <td>58.000000</td>\n      <td>2.000000</td>\n      <td>2.000000</td>\n      <td>1.000000</td>\n    </tr>\n    <tr>\n      <th>75%</th>\n      <td>16.000000</td>\n      <td>16.000000</td>\n      <td>2.000000</td>\n      <td>2.000000</td>\n      <td>9.000000</td>\n      <td>8.000000</td>\n      <td>9.000000</td>\n      <td>9.000000</td>\n      <td>4346.000000</td>\n      <td>2.331691e+06</td>\n      <td>96.000000</td>\n      <td>110.000000</td>\n      <td>8.000000</td>\n      <td>7.000000</td>\n      <td>2.000000</td>\n    </tr>\n    <tr>\n      <th>max</th>\n      <td>38.000000</td>\n      <td>41.000000</td>\n      <td>2.000000</td>\n      <td>2.000000</td>\n      <td>15.000000</td>\n      <td>16.000000</td>\n      <td>15.000000</td>\n      <td>15.000000</td>\n      <td>5248.000000</td>\n      <td>2.340461e+06</td>\n      <td>404.000000</td>\n      <td>404.000000</td>\n      <td>34.000000</td>\n      <td>34.000000</td>\n      <td>2.000000</td>\n    </tr>\n  </tbody>\n</table>\n</div>"
     },
     "execution_count": 215,
     "metadata": {},
     "output_type": "execute_result"
    }
   ],
   "source": [
    "results_df.describe()"
   ],
   "metadata": {
    "collapsed": false,
    "pycharm": {
     "name": "#%%\n"
    }
   }
  },
  {
   "cell_type": "code",
   "execution_count": 216,
   "outputs": [
    {
     "data": {
      "text/plain": "date            0\nteam_1          0\nteam_2          0\n_map            0\nresult_1        0\nresult_2        0\nmap_winner      0\nstarting_ct     0\nct_1            0\nt_2             0\nt_1             0\nct_2            0\nevent_id        0\nmatch_id        0\nrank_1          0\nrank_2          0\nmap_wins_1      0\nmap_wins_2      0\nmatch_winner    0\ndtype: int64"
     },
     "execution_count": 216,
     "metadata": {},
     "output_type": "execute_result"
    }
   ],
   "source": [
    "results_df.isnull().sum()"
   ],
   "metadata": {
    "collapsed": false,
    "pycharm": {
     "name": "#%%\n"
    }
   }
  },
  {
   "cell_type": "code",
   "execution_count": 217,
   "outputs": [
    {
     "data": {
      "text/plain": "             date               team_1          team_2         _map  result_1  \\\n0      2020-03-18              Recon 5         TeamOne        Dust2         0   \n1      2020-03-18              Recon 5         TeamOne      Inferno        13   \n2      2020-03-18  New England Whalers        Station7      Inferno        12   \n3      2020-03-18              Rugratz  Bad News Bears      Inferno         7   \n4      2020-03-18              Rugratz  Bad News Bears      Vertigo         8   \n...           ...                  ...             ...          ...       ...   \n45768  2015-11-05                   G2      E-frag.net      Inferno        13   \n45769  2015-11-05                   G2      E-frag.net        Dust2        16   \n45770  2015-11-04                  CLG          Liquid      Inferno        16   \n45771  2015-11-03                  NiP        Dignitas        Train        16   \n45772  2015-11-03                  NiP            Envy  Cobblestone        16   \n\n       result_2  map_winner  starting_ct  ct_1  t_2  t_1  ct_2  event_id  \\\n0            16           2            2     0    1    0    15      5151   \n1            16           2            2     8    6    5    10      5151   \n2            16           2            1     9    6    3    10      5243   \n3            16           2            2     0    8    7     8      5151   \n4            16           2            2     4    5    4    11      5151   \n...         ...         ...          ...   ...  ...  ...   ...       ...   \n45768        16           2            1     8    7    5     9      1970   \n45769        13           1            1    10    5    6     8      1970   \n45770        12           1            1     7    8    9     4      1934   \n45771         4           1            2     4    1   12     3      1934   \n45772         9           1            2     4    6   12     3      1934   \n\n       match_id  rank_1  rank_2  map_wins_1  map_wins_2  match_winner  \\\n0       2340454      62      63           0           2             2   \n1       2340454      62      63           0           2             2   \n2       2340461     140     118          12          16             2   \n3       2340453      61      38           0           2             2   \n4       2340453      61      38           0           2             2   \n...         ...     ...     ...         ...         ...           ...   \n45768   2299059       7      16           1           2             2   \n45769   2299059       7      16           1           2             2   \n45770   2299011      10      14          16          12             1   \n45771   2299001       6      12          16           4             1   \n45772   2299003       6       1          16           9             1   \n\n                              teams  \n0                   Recon 5,TeamOne  \n1                   Recon 5,TeamOne  \n2      New England Whalers,Station7  \n3            Rugratz,Bad News Bears  \n4            Rugratz,Bad News Bears  \n...                             ...  \n45768                 G2,E-frag.net  \n45769                 G2,E-frag.net  \n45770                    CLG,Liquid  \n45771                  NiP,Dignitas  \n45772                      NiP,Envy  \n\n[45773 rows x 20 columns]",
      "text/html": "<div>\n<style scoped>\n    .dataframe tbody tr th:only-of-type {\n        vertical-align: middle;\n    }\n\n    .dataframe tbody tr th {\n        vertical-align: top;\n    }\n\n    .dataframe thead th {\n        text-align: right;\n    }\n</style>\n<table border=\"1\" class=\"dataframe\">\n  <thead>\n    <tr style=\"text-align: right;\">\n      <th></th>\n      <th>date</th>\n      <th>team_1</th>\n      <th>team_2</th>\n      <th>_map</th>\n      <th>result_1</th>\n      <th>result_2</th>\n      <th>map_winner</th>\n      <th>starting_ct</th>\n      <th>ct_1</th>\n      <th>t_2</th>\n      <th>t_1</th>\n      <th>ct_2</th>\n      <th>event_id</th>\n      <th>match_id</th>\n      <th>rank_1</th>\n      <th>rank_2</th>\n      <th>map_wins_1</th>\n      <th>map_wins_2</th>\n      <th>match_winner</th>\n      <th>teams</th>\n    </tr>\n  </thead>\n  <tbody>\n    <tr>\n      <th>0</th>\n      <td>2020-03-18</td>\n      <td>Recon 5</td>\n      <td>TeamOne</td>\n      <td>Dust2</td>\n      <td>0</td>\n      <td>16</td>\n      <td>2</td>\n      <td>2</td>\n      <td>0</td>\n      <td>1</td>\n      <td>0</td>\n      <td>15</td>\n      <td>5151</td>\n      <td>2340454</td>\n      <td>62</td>\n      <td>63</td>\n      <td>0</td>\n      <td>2</td>\n      <td>2</td>\n      <td>Recon 5,TeamOne</td>\n    </tr>\n    <tr>\n      <th>1</th>\n      <td>2020-03-18</td>\n      <td>Recon 5</td>\n      <td>TeamOne</td>\n      <td>Inferno</td>\n      <td>13</td>\n      <td>16</td>\n      <td>2</td>\n      <td>2</td>\n      <td>8</td>\n      <td>6</td>\n      <td>5</td>\n      <td>10</td>\n      <td>5151</td>\n      <td>2340454</td>\n      <td>62</td>\n      <td>63</td>\n      <td>0</td>\n      <td>2</td>\n      <td>2</td>\n      <td>Recon 5,TeamOne</td>\n    </tr>\n    <tr>\n      <th>2</th>\n      <td>2020-03-18</td>\n      <td>New England Whalers</td>\n      <td>Station7</td>\n      <td>Inferno</td>\n      <td>12</td>\n      <td>16</td>\n      <td>2</td>\n      <td>1</td>\n      <td>9</td>\n      <td>6</td>\n      <td>3</td>\n      <td>10</td>\n      <td>5243</td>\n      <td>2340461</td>\n      <td>140</td>\n      <td>118</td>\n      <td>12</td>\n      <td>16</td>\n      <td>2</td>\n      <td>New England Whalers,Station7</td>\n    </tr>\n    <tr>\n      <th>3</th>\n      <td>2020-03-18</td>\n      <td>Rugratz</td>\n      <td>Bad News Bears</td>\n      <td>Inferno</td>\n      <td>7</td>\n      <td>16</td>\n      <td>2</td>\n      <td>2</td>\n      <td>0</td>\n      <td>8</td>\n      <td>7</td>\n      <td>8</td>\n      <td>5151</td>\n      <td>2340453</td>\n      <td>61</td>\n      <td>38</td>\n      <td>0</td>\n      <td>2</td>\n      <td>2</td>\n      <td>Rugratz,Bad News Bears</td>\n    </tr>\n    <tr>\n      <th>4</th>\n      <td>2020-03-18</td>\n      <td>Rugratz</td>\n      <td>Bad News Bears</td>\n      <td>Vertigo</td>\n      <td>8</td>\n      <td>16</td>\n      <td>2</td>\n      <td>2</td>\n      <td>4</td>\n      <td>5</td>\n      <td>4</td>\n      <td>11</td>\n      <td>5151</td>\n      <td>2340453</td>\n      <td>61</td>\n      <td>38</td>\n      <td>0</td>\n      <td>2</td>\n      <td>2</td>\n      <td>Rugratz,Bad News Bears</td>\n    </tr>\n    <tr>\n      <th>...</th>\n      <td>...</td>\n      <td>...</td>\n      <td>...</td>\n      <td>...</td>\n      <td>...</td>\n      <td>...</td>\n      <td>...</td>\n      <td>...</td>\n      <td>...</td>\n      <td>...</td>\n      <td>...</td>\n      <td>...</td>\n      <td>...</td>\n      <td>...</td>\n      <td>...</td>\n      <td>...</td>\n      <td>...</td>\n      <td>...</td>\n      <td>...</td>\n      <td>...</td>\n    </tr>\n    <tr>\n      <th>45768</th>\n      <td>2015-11-05</td>\n      <td>G2</td>\n      <td>E-frag.net</td>\n      <td>Inferno</td>\n      <td>13</td>\n      <td>16</td>\n      <td>2</td>\n      <td>1</td>\n      <td>8</td>\n      <td>7</td>\n      <td>5</td>\n      <td>9</td>\n      <td>1970</td>\n      <td>2299059</td>\n      <td>7</td>\n      <td>16</td>\n      <td>1</td>\n      <td>2</td>\n      <td>2</td>\n      <td>G2,E-frag.net</td>\n    </tr>\n    <tr>\n      <th>45769</th>\n      <td>2015-11-05</td>\n      <td>G2</td>\n      <td>E-frag.net</td>\n      <td>Dust2</td>\n      <td>16</td>\n      <td>13</td>\n      <td>1</td>\n      <td>1</td>\n      <td>10</td>\n      <td>5</td>\n      <td>6</td>\n      <td>8</td>\n      <td>1970</td>\n      <td>2299059</td>\n      <td>7</td>\n      <td>16</td>\n      <td>1</td>\n      <td>2</td>\n      <td>2</td>\n      <td>G2,E-frag.net</td>\n    </tr>\n    <tr>\n      <th>45770</th>\n      <td>2015-11-04</td>\n      <td>CLG</td>\n      <td>Liquid</td>\n      <td>Inferno</td>\n      <td>16</td>\n      <td>12</td>\n      <td>1</td>\n      <td>1</td>\n      <td>7</td>\n      <td>8</td>\n      <td>9</td>\n      <td>4</td>\n      <td>1934</td>\n      <td>2299011</td>\n      <td>10</td>\n      <td>14</td>\n      <td>16</td>\n      <td>12</td>\n      <td>1</td>\n      <td>CLG,Liquid</td>\n    </tr>\n    <tr>\n      <th>45771</th>\n      <td>2015-11-03</td>\n      <td>NiP</td>\n      <td>Dignitas</td>\n      <td>Train</td>\n      <td>16</td>\n      <td>4</td>\n      <td>1</td>\n      <td>2</td>\n      <td>4</td>\n      <td>1</td>\n      <td>12</td>\n      <td>3</td>\n      <td>1934</td>\n      <td>2299001</td>\n      <td>6</td>\n      <td>12</td>\n      <td>16</td>\n      <td>4</td>\n      <td>1</td>\n      <td>NiP,Dignitas</td>\n    </tr>\n    <tr>\n      <th>45772</th>\n      <td>2015-11-03</td>\n      <td>NiP</td>\n      <td>Envy</td>\n      <td>Cobblestone</td>\n      <td>16</td>\n      <td>9</td>\n      <td>1</td>\n      <td>2</td>\n      <td>4</td>\n      <td>6</td>\n      <td>12</td>\n      <td>3</td>\n      <td>1934</td>\n      <td>2299003</td>\n      <td>6</td>\n      <td>1</td>\n      <td>16</td>\n      <td>9</td>\n      <td>1</td>\n      <td>NiP,Envy</td>\n    </tr>\n  </tbody>\n</table>\n<p>45773 rows × 20 columns</p>\n</div>"
     },
     "execution_count": 217,
     "metadata": {},
     "output_type": "execute_result"
    }
   ],
   "source": [
    "results_df['teams'] = results_df['team_1'] +\",\"+ results_df['team_2']\n",
    "results_df"
   ],
   "metadata": {
    "collapsed": false,
    "pycharm": {
     "name": "#%%\n"
    }
   }
  },
  {
   "cell_type": "code",
   "execution_count": 218,
   "outputs": [],
   "source": [
    "results_df, test_df = train_test_split(results_df, test_size=0.20)\n",
    "train_df, dev_df = train_test_split(results_df, test_size=0.20)"
   ],
   "metadata": {
    "collapsed": false,
    "pycharm": {
     "name": "#%%\n"
    }
   }
  },
  {
   "cell_type": "code",
   "execution_count": 219,
   "outputs": [],
   "source": [
    "tfidf = TfidfVectorizer(max_features=1000)\n",
    "\n",
    "x_train = tfidf.fit_transform(train_df['teams']).toarray()\n",
    "y_train = np.asarray(train_df['match_winner'])"
   ],
   "metadata": {
    "collapsed": false,
    "pycharm": {
     "name": "#%%\n"
    }
   }
  },
  {
   "cell_type": "code",
   "execution_count": 220,
   "outputs": [],
   "source": [
    "x_dev = tfidf.transform(dev_df['teams']).toarray()\n",
    "y_dev = np.asarray(dev_df['match_winner'])"
   ],
   "metadata": {
    "collapsed": false,
    "pycharm": {
     "name": "#%%\n"
    }
   }
  },
  {
   "cell_type": "code",
   "execution_count": 221,
   "outputs": [],
   "source": [
    "x_test = tfidf.fit_transform(test_df['teams']).toarray()\n",
    "y_test = np.asarray(test_df['match_winner'])"
   ],
   "metadata": {
    "collapsed": false,
    "pycharm": {
     "name": "#%%\n"
    }
   }
  },
  {
   "cell_type": "code",
   "execution_count": 222,
   "outputs": [
    {
     "name": "stdout",
     "output_type": "stream",
     "text": [
      "(29294, 1000)\n",
      "(29294,)\n",
      "(7324, 1000)\n",
      "(7324,)\n",
      "(9155, 1000)\n",
      "(9155,)\n"
     ]
    }
   ],
   "source": [
    "print(x_train.shape)\n",
    "print(y_train.shape)\n",
    "print(x_dev.shape)\n",
    "print(y_dev.shape)\n",
    "print(x_test.shape)\n",
    "print(y_test.shape)"
   ],
   "metadata": {
    "collapsed": false,
    "pycharm": {
     "name": "#%%\n"
    }
   }
  },
  {
   "cell_type": "code",
   "execution_count": 223,
   "outputs": [
    {
     "ename": "ValueError",
     "evalue": "Wrong number of items passed 1000, placement implies 1",
     "output_type": "error",
     "traceback": [
      "\u001B[1;31m---------------------------------------------------------------------------\u001B[0m",
      "\u001B[1;31mKeyError\u001B[0m                                  Traceback (most recent call last)",
      "\u001B[1;32mc:\\python3\\lib\\site-packages\\pandas\\core\\indexes\\base.py\u001B[0m in \u001B[0;36mget_loc\u001B[1;34m(self, key, method, tolerance)\u001B[0m\n\u001B[0;32m   3079\u001B[0m             \u001B[1;32mtry\u001B[0m\u001B[1;33m:\u001B[0m\u001B[1;33m\u001B[0m\u001B[1;33m\u001B[0m\u001B[0m\n\u001B[1;32m-> 3080\u001B[1;33m                 \u001B[1;32mreturn\u001B[0m \u001B[0mself\u001B[0m\u001B[1;33m.\u001B[0m\u001B[0m_engine\u001B[0m\u001B[1;33m.\u001B[0m\u001B[0mget_loc\u001B[0m\u001B[1;33m(\u001B[0m\u001B[0mcasted_key\u001B[0m\u001B[1;33m)\u001B[0m\u001B[1;33m\u001B[0m\u001B[1;33m\u001B[0m\u001B[0m\n\u001B[0m\u001B[0;32m   3081\u001B[0m             \u001B[1;32mexcept\u001B[0m \u001B[0mKeyError\u001B[0m \u001B[1;32mas\u001B[0m \u001B[0merr\u001B[0m\u001B[1;33m:\u001B[0m\u001B[1;33m\u001B[0m\u001B[1;33m\u001B[0m\u001B[0m\n",
      "\u001B[1;32mpandas\\_libs\\index.pyx\u001B[0m in \u001B[0;36mpandas._libs.index.IndexEngine.get_loc\u001B[1;34m()\u001B[0m\n",
      "\u001B[1;32mpandas\\_libs\\index.pyx\u001B[0m in \u001B[0;36mpandas._libs.index.IndexEngine.get_loc\u001B[1;34m()\u001B[0m\n",
      "\u001B[1;32mpandas\\_libs\\hashtable_class_helper.pxi\u001B[0m in \u001B[0;36mpandas._libs.hashtable.PyObjectHashTable.get_item\u001B[1;34m()\u001B[0m\n",
      "\u001B[1;32mpandas\\_libs\\hashtable_class_helper.pxi\u001B[0m in \u001B[0;36mpandas._libs.hashtable.PyObjectHashTable.get_item\u001B[1;34m()\u001B[0m\n",
      "\u001B[1;31mKeyError\u001B[0m: 'teams_transform'",
      "\nThe above exception was the direct cause of the following exception:\n",
      "\u001B[1;31mKeyError\u001B[0m                                  Traceback (most recent call last)",
      "\u001B[1;32mc:\\python3\\lib\\site-packages\\pandas\\core\\generic.py\u001B[0m in \u001B[0;36m_set_item\u001B[1;34m(self, key, value)\u001B[0m\n\u001B[0;32m   3824\u001B[0m         \u001B[1;32mtry\u001B[0m\u001B[1;33m:\u001B[0m\u001B[1;33m\u001B[0m\u001B[1;33m\u001B[0m\u001B[0m\n\u001B[1;32m-> 3825\u001B[1;33m             \u001B[0mloc\u001B[0m \u001B[1;33m=\u001B[0m \u001B[0mself\u001B[0m\u001B[1;33m.\u001B[0m\u001B[0m_info_axis\u001B[0m\u001B[1;33m.\u001B[0m\u001B[0mget_loc\u001B[0m\u001B[1;33m(\u001B[0m\u001B[0mkey\u001B[0m\u001B[1;33m)\u001B[0m\u001B[1;33m\u001B[0m\u001B[1;33m\u001B[0m\u001B[0m\n\u001B[0m\u001B[0;32m   3826\u001B[0m         \u001B[1;32mexcept\u001B[0m \u001B[0mKeyError\u001B[0m\u001B[1;33m:\u001B[0m\u001B[1;33m\u001B[0m\u001B[1;33m\u001B[0m\u001B[0m\n",
      "\u001B[1;32mc:\\python3\\lib\\site-packages\\pandas\\core\\indexes\\base.py\u001B[0m in \u001B[0;36mget_loc\u001B[1;34m(self, key, method, tolerance)\u001B[0m\n\u001B[0;32m   3081\u001B[0m             \u001B[1;32mexcept\u001B[0m \u001B[0mKeyError\u001B[0m \u001B[1;32mas\u001B[0m \u001B[0merr\u001B[0m\u001B[1;33m:\u001B[0m\u001B[1;33m\u001B[0m\u001B[1;33m\u001B[0m\u001B[0m\n\u001B[1;32m-> 3082\u001B[1;33m                 \u001B[1;32mraise\u001B[0m \u001B[0mKeyError\u001B[0m\u001B[1;33m(\u001B[0m\u001B[0mkey\u001B[0m\u001B[1;33m)\u001B[0m \u001B[1;32mfrom\u001B[0m \u001B[0merr\u001B[0m\u001B[1;33m\u001B[0m\u001B[1;33m\u001B[0m\u001B[0m\n\u001B[0m\u001B[0;32m   3083\u001B[0m \u001B[1;33m\u001B[0m\u001B[0m\n",
      "\u001B[1;31mKeyError\u001B[0m: 'teams_transform'",
      "\nDuring handling of the above exception, another exception occurred:\n",
      "\u001B[1;31mValueError\u001B[0m                                Traceback (most recent call last)",
      "\u001B[1;32m<ipython-input-223-8d05a09404e6>\u001B[0m in \u001B[0;36m<module>\u001B[1;34m\u001B[0m\n\u001B[1;32m----> 1\u001B[1;33m \u001B[0mtrain_df\u001B[0m\u001B[1;33m[\u001B[0m\u001B[1;34m'teams_transform'\u001B[0m\u001B[1;33m]\u001B[0m \u001B[1;33m=\u001B[0m \u001B[0mtfidf\u001B[0m\u001B[1;33m.\u001B[0m\u001B[0mfit_transform\u001B[0m\u001B[1;33m(\u001B[0m\u001B[0mtrain_df\u001B[0m\u001B[1;33m[\u001B[0m\u001B[1;34m'teams'\u001B[0m\u001B[1;33m]\u001B[0m\u001B[1;33m)\u001B[0m\u001B[1;33m.\u001B[0m\u001B[0mtoarray\u001B[0m\u001B[1;33m(\u001B[0m\u001B[1;33m)\u001B[0m\u001B[1;33m\u001B[0m\u001B[1;33m\u001B[0m\u001B[0m\n\u001B[0m\u001B[0;32m      2\u001B[0m \u001B[0mtrain_df\u001B[0m\u001B[1;33m[\u001B[0m\u001B[1;34m'map_transform'\u001B[0m\u001B[1;33m]\u001B[0m \u001B[1;33m=\u001B[0m \u001B[0mtfidf\u001B[0m\u001B[1;33m.\u001B[0m\u001B[0mfit_transform\u001B[0m\u001B[1;33m(\u001B[0m\u001B[0mtrain_df\u001B[0m\u001B[1;33m[\u001B[0m\u001B[1;34m'_map'\u001B[0m\u001B[1;33m]\u001B[0m\u001B[1;33m)\u001B[0m\u001B[1;33m.\u001B[0m\u001B[0mtoarray\u001B[0m\u001B[1;33m(\u001B[0m\u001B[1;33m)\u001B[0m\u001B[1;33m\u001B[0m\u001B[1;33m\u001B[0m\u001B[0m\n\u001B[0;32m      3\u001B[0m \u001B[1;33m\u001B[0m\u001B[0m\n",
      "\u001B[1;32mc:\\python3\\lib\\site-packages\\pandas\\core\\frame.py\u001B[0m in \u001B[0;36m__setitem__\u001B[1;34m(self, key, value)\u001B[0m\n\u001B[0;32m   3161\u001B[0m         \u001B[1;32melse\u001B[0m\u001B[1;33m:\u001B[0m\u001B[1;33m\u001B[0m\u001B[1;33m\u001B[0m\u001B[0m\n\u001B[0;32m   3162\u001B[0m             \u001B[1;31m# set column\u001B[0m\u001B[1;33m\u001B[0m\u001B[1;33m\u001B[0m\u001B[1;33m\u001B[0m\u001B[0m\n\u001B[1;32m-> 3163\u001B[1;33m             \u001B[0mself\u001B[0m\u001B[1;33m.\u001B[0m\u001B[0m_set_item\u001B[0m\u001B[1;33m(\u001B[0m\u001B[0mkey\u001B[0m\u001B[1;33m,\u001B[0m \u001B[0mvalue\u001B[0m\u001B[1;33m)\u001B[0m\u001B[1;33m\u001B[0m\u001B[1;33m\u001B[0m\u001B[0m\n\u001B[0m\u001B[0;32m   3164\u001B[0m \u001B[1;33m\u001B[0m\u001B[0m\n\u001B[0;32m   3165\u001B[0m     \u001B[1;32mdef\u001B[0m \u001B[0m_setitem_slice\u001B[0m\u001B[1;33m(\u001B[0m\u001B[0mself\u001B[0m\u001B[1;33m,\u001B[0m \u001B[0mkey\u001B[0m\u001B[1;33m:\u001B[0m \u001B[0mslice\u001B[0m\u001B[1;33m,\u001B[0m \u001B[0mvalue\u001B[0m\u001B[1;33m)\u001B[0m\u001B[1;33m:\u001B[0m\u001B[1;33m\u001B[0m\u001B[1;33m\u001B[0m\u001B[0m\n",
      "\u001B[1;32mc:\\python3\\lib\\site-packages\\pandas\\core\\frame.py\u001B[0m in \u001B[0;36m_set_item\u001B[1;34m(self, key, value)\u001B[0m\n\u001B[0;32m   3238\u001B[0m         \u001B[0mself\u001B[0m\u001B[1;33m.\u001B[0m\u001B[0m_ensure_valid_index\u001B[0m\u001B[1;33m(\u001B[0m\u001B[0mvalue\u001B[0m\u001B[1;33m)\u001B[0m\u001B[1;33m\u001B[0m\u001B[1;33m\u001B[0m\u001B[0m\n\u001B[0;32m   3239\u001B[0m         \u001B[0mvalue\u001B[0m \u001B[1;33m=\u001B[0m \u001B[0mself\u001B[0m\u001B[1;33m.\u001B[0m\u001B[0m_sanitize_column\u001B[0m\u001B[1;33m(\u001B[0m\u001B[0mkey\u001B[0m\u001B[1;33m,\u001B[0m \u001B[0mvalue\u001B[0m\u001B[1;33m)\u001B[0m\u001B[1;33m\u001B[0m\u001B[1;33m\u001B[0m\u001B[0m\n\u001B[1;32m-> 3240\u001B[1;33m         \u001B[0mNDFrame\u001B[0m\u001B[1;33m.\u001B[0m\u001B[0m_set_item\u001B[0m\u001B[1;33m(\u001B[0m\u001B[0mself\u001B[0m\u001B[1;33m,\u001B[0m \u001B[0mkey\u001B[0m\u001B[1;33m,\u001B[0m \u001B[0mvalue\u001B[0m\u001B[1;33m)\u001B[0m\u001B[1;33m\u001B[0m\u001B[1;33m\u001B[0m\u001B[0m\n\u001B[0m\u001B[0;32m   3241\u001B[0m \u001B[1;33m\u001B[0m\u001B[0m\n\u001B[0;32m   3242\u001B[0m         \u001B[1;31m# check if we are modifying a copy\u001B[0m\u001B[1;33m\u001B[0m\u001B[1;33m\u001B[0m\u001B[1;33m\u001B[0m\u001B[0m\n",
      "\u001B[1;32mc:\\python3\\lib\\site-packages\\pandas\\core\\generic.py\u001B[0m in \u001B[0;36m_set_item\u001B[1;34m(self, key, value)\u001B[0m\n\u001B[0;32m   3826\u001B[0m         \u001B[1;32mexcept\u001B[0m \u001B[0mKeyError\u001B[0m\u001B[1;33m:\u001B[0m\u001B[1;33m\u001B[0m\u001B[1;33m\u001B[0m\u001B[0m\n\u001B[0;32m   3827\u001B[0m             \u001B[1;31m# This item wasn't present, just insert at end\u001B[0m\u001B[1;33m\u001B[0m\u001B[1;33m\u001B[0m\u001B[1;33m\u001B[0m\u001B[0m\n\u001B[1;32m-> 3828\u001B[1;33m             \u001B[0mself\u001B[0m\u001B[1;33m.\u001B[0m\u001B[0m_mgr\u001B[0m\u001B[1;33m.\u001B[0m\u001B[0minsert\u001B[0m\u001B[1;33m(\u001B[0m\u001B[0mlen\u001B[0m\u001B[1;33m(\u001B[0m\u001B[0mself\u001B[0m\u001B[1;33m.\u001B[0m\u001B[0m_info_axis\u001B[0m\u001B[1;33m)\u001B[0m\u001B[1;33m,\u001B[0m \u001B[0mkey\u001B[0m\u001B[1;33m,\u001B[0m \u001B[0mvalue\u001B[0m\u001B[1;33m)\u001B[0m\u001B[1;33m\u001B[0m\u001B[1;33m\u001B[0m\u001B[0m\n\u001B[0m\u001B[0;32m   3829\u001B[0m             \u001B[1;32mreturn\u001B[0m\u001B[1;33m\u001B[0m\u001B[1;33m\u001B[0m\u001B[0m\n\u001B[0;32m   3830\u001B[0m \u001B[1;33m\u001B[0m\u001B[0m\n",
      "\u001B[1;32mc:\\python3\\lib\\site-packages\\pandas\\core\\internals\\managers.py\u001B[0m in \u001B[0;36minsert\u001B[1;34m(self, loc, item, value, allow_duplicates)\u001B[0m\n\u001B[0;32m   1201\u001B[0m             \u001B[0mvalue\u001B[0m \u001B[1;33m=\u001B[0m \u001B[0msafe_reshape\u001B[0m\u001B[1;33m(\u001B[0m\u001B[0mvalue\u001B[0m\u001B[1;33m,\u001B[0m \u001B[1;33m(\u001B[0m\u001B[1;36m1\u001B[0m\u001B[1;33m,\u001B[0m\u001B[1;33m)\u001B[0m \u001B[1;33m+\u001B[0m \u001B[0mvalue\u001B[0m\u001B[1;33m.\u001B[0m\u001B[0mshape\u001B[0m\u001B[1;33m)\u001B[0m\u001B[1;33m\u001B[0m\u001B[1;33m\u001B[0m\u001B[0m\n\u001B[0;32m   1202\u001B[0m \u001B[1;33m\u001B[0m\u001B[0m\n\u001B[1;32m-> 1203\u001B[1;33m         \u001B[0mblock\u001B[0m \u001B[1;33m=\u001B[0m \u001B[0mmake_block\u001B[0m\u001B[1;33m(\u001B[0m\u001B[0mvalues\u001B[0m\u001B[1;33m=\u001B[0m\u001B[0mvalue\u001B[0m\u001B[1;33m,\u001B[0m \u001B[0mndim\u001B[0m\u001B[1;33m=\u001B[0m\u001B[0mself\u001B[0m\u001B[1;33m.\u001B[0m\u001B[0mndim\u001B[0m\u001B[1;33m,\u001B[0m \u001B[0mplacement\u001B[0m\u001B[1;33m=\u001B[0m\u001B[0mslice\u001B[0m\u001B[1;33m(\u001B[0m\u001B[0mloc\u001B[0m\u001B[1;33m,\u001B[0m \u001B[0mloc\u001B[0m \u001B[1;33m+\u001B[0m \u001B[1;36m1\u001B[0m\u001B[1;33m)\u001B[0m\u001B[1;33m)\u001B[0m\u001B[1;33m\u001B[0m\u001B[1;33m\u001B[0m\u001B[0m\n\u001B[0m\u001B[0;32m   1204\u001B[0m \u001B[1;33m\u001B[0m\u001B[0m\n\u001B[0;32m   1205\u001B[0m         \u001B[1;32mfor\u001B[0m \u001B[0mblkno\u001B[0m\u001B[1;33m,\u001B[0m \u001B[0mcount\u001B[0m \u001B[1;32min\u001B[0m \u001B[0m_fast_count_smallints\u001B[0m\u001B[1;33m(\u001B[0m\u001B[0mself\u001B[0m\u001B[1;33m.\u001B[0m\u001B[0mblknos\u001B[0m\u001B[1;33m[\u001B[0m\u001B[0mloc\u001B[0m\u001B[1;33m:\u001B[0m\u001B[1;33m]\u001B[0m\u001B[1;33m)\u001B[0m\u001B[1;33m:\u001B[0m\u001B[1;33m\u001B[0m\u001B[1;33m\u001B[0m\u001B[0m\n",
      "\u001B[1;32mc:\\python3\\lib\\site-packages\\pandas\\core\\internals\\blocks.py\u001B[0m in \u001B[0;36mmake_block\u001B[1;34m(values, placement, klass, ndim, dtype)\u001B[0m\n\u001B[0;32m   2730\u001B[0m         \u001B[0mvalues\u001B[0m \u001B[1;33m=\u001B[0m \u001B[0mDatetimeArray\u001B[0m\u001B[1;33m.\u001B[0m\u001B[0m_simple_new\u001B[0m\u001B[1;33m(\u001B[0m\u001B[0mvalues\u001B[0m\u001B[1;33m,\u001B[0m \u001B[0mdtype\u001B[0m\u001B[1;33m=\u001B[0m\u001B[0mdtype\u001B[0m\u001B[1;33m)\u001B[0m\u001B[1;33m\u001B[0m\u001B[1;33m\u001B[0m\u001B[0m\n\u001B[0;32m   2731\u001B[0m \u001B[1;33m\u001B[0m\u001B[0m\n\u001B[1;32m-> 2732\u001B[1;33m     \u001B[1;32mreturn\u001B[0m \u001B[0mklass\u001B[0m\u001B[1;33m(\u001B[0m\u001B[0mvalues\u001B[0m\u001B[1;33m,\u001B[0m \u001B[0mndim\u001B[0m\u001B[1;33m=\u001B[0m\u001B[0mndim\u001B[0m\u001B[1;33m,\u001B[0m \u001B[0mplacement\u001B[0m\u001B[1;33m=\u001B[0m\u001B[0mplacement\u001B[0m\u001B[1;33m)\u001B[0m\u001B[1;33m\u001B[0m\u001B[1;33m\u001B[0m\u001B[0m\n\u001B[0m\u001B[0;32m   2733\u001B[0m \u001B[1;33m\u001B[0m\u001B[0m\n\u001B[0;32m   2734\u001B[0m \u001B[1;33m\u001B[0m\u001B[0m\n",
      "\u001B[1;32mc:\\python3\\lib\\site-packages\\pandas\\core\\internals\\blocks.py\u001B[0m in \u001B[0;36m__init__\u001B[1;34m(self, values, placement, ndim)\u001B[0m\n\u001B[0;32m    140\u001B[0m \u001B[1;33m\u001B[0m\u001B[0m\n\u001B[0;32m    141\u001B[0m         \u001B[1;32mif\u001B[0m \u001B[0mself\u001B[0m\u001B[1;33m.\u001B[0m\u001B[0m_validate_ndim\u001B[0m \u001B[1;32mand\u001B[0m \u001B[0mself\u001B[0m\u001B[1;33m.\u001B[0m\u001B[0mndim\u001B[0m \u001B[1;32mand\u001B[0m \u001B[0mlen\u001B[0m\u001B[1;33m(\u001B[0m\u001B[0mself\u001B[0m\u001B[1;33m.\u001B[0m\u001B[0mmgr_locs\u001B[0m\u001B[1;33m)\u001B[0m \u001B[1;33m!=\u001B[0m \u001B[0mlen\u001B[0m\u001B[1;33m(\u001B[0m\u001B[0mself\u001B[0m\u001B[1;33m.\u001B[0m\u001B[0mvalues\u001B[0m\u001B[1;33m)\u001B[0m\u001B[1;33m:\u001B[0m\u001B[1;33m\u001B[0m\u001B[1;33m\u001B[0m\u001B[0m\n\u001B[1;32m--> 142\u001B[1;33m             raise ValueError(\n\u001B[0m\u001B[0;32m    143\u001B[0m                 \u001B[1;34mf\"Wrong number of items passed {len(self.values)}, \"\u001B[0m\u001B[1;33m\u001B[0m\u001B[1;33m\u001B[0m\u001B[0m\n\u001B[0;32m    144\u001B[0m                 \u001B[1;34mf\"placement implies {len(self.mgr_locs)}\"\u001B[0m\u001B[1;33m\u001B[0m\u001B[1;33m\u001B[0m\u001B[0m\n",
      "\u001B[1;31mValueError\u001B[0m: Wrong number of items passed 1000, placement implies 1"
     ]
    }
   ],
   "source": [
    "train_df['teams_transform'] = tfidf.fit_transform(train_df['teams']).toarray()\n",
    "train_df['map_transform'] = tfidf.fit_transform(train_df['_map']).toarray()"
   ],
   "metadata": {
    "collapsed": false,
    "pycharm": {
     "name": "#%%\n"
    }
   }
  },
  {
   "cell_type": "code",
   "execution_count": null,
   "outputs": [],
   "source": [
    "Features = [\"teams_transform\", \"map_transform\", \"rank_1\", \"rank_2\"]\n",
    "x = train_df[Features]\n",
    "y = train_df[\"match_winner\"]"
   ],
   "metadata": {
    "collapsed": false,
    "pycharm": {
     "name": "#%%\n"
    }
   }
  },
  {
   "cell_type": "code",
   "execution_count": null,
   "outputs": [],
   "source": [
    "models = [LinearSVC(),KNeighborsClassifier(),RandomForestClassifier(),DecisionTreeClassifier(),GradientBoostingClassifier(),GaussianNB()]\n",
    "\n",
    "model_names=['LinearSVM','KNearestNeighbors','RandomForestClassifier','DecisionTree','GradientBoostingClassifier','GaussianNB']\n",
    "\n",
    "acc = []\n",
    "\n",
    "for model in range(len(models)):\n",
    "    classifiers = models[model]\n",
    "    classifiers.fit(x_train,y_train)\n",
    "    pred = classifiers.predict(x_test)\n",
    "    acc.append(accuracy_score(pred,y_test))\n",
    "\n",
    "d={'Modelling Algo':model_names,'Accuracy':acc}\n",
    "d"
   ],
   "metadata": {
    "collapsed": false,
    "pycharm": {
     "name": "#%%\n"
    }
   }
  },
  {
   "cell_type": "code",
   "execution_count": null,
   "outputs": [],
   "source": [
    "acc_frame=pd.DataFrame(d)\n",
    "acc_frame.sort_values(by = 'Accuracy', ascending = False)"
   ],
   "metadata": {
    "collapsed": false,
    "pycharm": {
     "name": "#%%\n"
    }
   }
  },
  {
   "cell_type": "code",
   "execution_count": null,
   "outputs": [],
   "source": [
    "gradient_boost = GradientBoostingClassifier()"
   ],
   "metadata": {
    "collapsed": false,
    "pycharm": {
     "name": "#%%\n"
    }
   }
  },
  {
   "cell_type": "code",
   "execution_count": null,
   "outputs": [],
   "source": [
    "gradient_boost.fit(x,y)\n"
   ],
   "metadata": {
    "collapsed": false,
    "pycharm": {
     "name": "#%%\n"
    }
   }
  }
 ],
 "metadata": {
  "kernelspec": {
   "display_name": "Python 3",
   "language": "python",
   "name": "python3"
  },
  "language_info": {
   "codemirror_mode": {
    "name": "ipython",
    "version": 2
   },
   "file_extension": ".py",
   "mimetype": "text/x-python",
   "name": "python",
   "nbconvert_exporter": "python",
   "pygments_lexer": "ipython2",
   "version": "2.7.6"
  }
 },
 "nbformat": 4,
 "nbformat_minor": 0
}