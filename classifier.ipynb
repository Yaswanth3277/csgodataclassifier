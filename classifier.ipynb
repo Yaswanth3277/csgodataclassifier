{
 "cells": [
  {
   "cell_type": "code",
   "execution_count": 106,
   "metadata": {
    "collapsed": true
   },
   "outputs": [],
   "source": [
    "import pandas as pd\n",
    "import numpy as np\n",
    "import matplotlib.pyplot as plt"
   ]
  },
  {
   "cell_type": "code",
   "execution_count": 107,
   "outputs": [],
   "source": [
    "results_df = pd.read_csv(\"Datasets/results.csv\")"
   ],
   "metadata": {
    "collapsed": false,
    "pycharm": {
     "name": "#%%\n"
    }
   }
  },
  {
   "cell_type": "code",
   "execution_count": 109,
   "outputs": [],
   "source": [
    "minimum_rank = 30\n",
    "\n",
    "results_df = results_df[(results_df.rank_1<minimum_rank)&(results_df.rank_2<minimum_rank)]\n",
    "\n",
    "results_df.reset_index(drop='True',inplace=True)"
   ],
   "metadata": {
    "collapsed": false,
    "pycharm": {
     "name": "#%%\n"
    }
   }
  },
  {
   "cell_type": "code",
   "execution_count": 110,
   "outputs": [
    {
     "data": {
      "text/plain": "         date         team_1      team_2      _map  result_1  result_2  \\\n0  2020-03-17         fnatic         BIG    Mirage        12        16   \n1  2020-03-17         fnatic         BIG  Overpass        16         7   \n2  2020-03-17  Natus Vincere       North      Nuke        10        16   \n3  2020-03-17  Natus Vincere       North     Dust2        10        16   \n4  2020-03-17          forZe  Complexity     Train         9        16   \n\n   map_winner  starting_ct  ct_1  t_2  t_1  ct_2  event_id  match_id  rank_1  \\\n0           2            1     9    6    3    10      5226   2340397       5   \n1           1            2     4    4   12     3      5226   2340397       5   \n2           2            1     7    8    3     8      5226   2340396       1   \n3           2            1     5   10    5     6      5226   2340396       1   \n4           2            2     3    7    6     9      5226   2340279      24   \n\n   rank_2  map_wins_1  map_wins_2  match_winner  \n0      18           1           2             2  \n1      18           1           2             2  \n2      23           0           2             2  \n3      23           0           2             2  \n4      17           2           1             1  ",
      "text/html": "<div>\n<style scoped>\n    .dataframe tbody tr th:only-of-type {\n        vertical-align: middle;\n    }\n\n    .dataframe tbody tr th {\n        vertical-align: top;\n    }\n\n    .dataframe thead th {\n        text-align: right;\n    }\n</style>\n<table border=\"1\" class=\"dataframe\">\n  <thead>\n    <tr style=\"text-align: right;\">\n      <th></th>\n      <th>date</th>\n      <th>team_1</th>\n      <th>team_2</th>\n      <th>_map</th>\n      <th>result_1</th>\n      <th>result_2</th>\n      <th>map_winner</th>\n      <th>starting_ct</th>\n      <th>ct_1</th>\n      <th>t_2</th>\n      <th>t_1</th>\n      <th>ct_2</th>\n      <th>event_id</th>\n      <th>match_id</th>\n      <th>rank_1</th>\n      <th>rank_2</th>\n      <th>map_wins_1</th>\n      <th>map_wins_2</th>\n      <th>match_winner</th>\n    </tr>\n  </thead>\n  <tbody>\n    <tr>\n      <th>0</th>\n      <td>2020-03-17</td>\n      <td>fnatic</td>\n      <td>BIG</td>\n      <td>Mirage</td>\n      <td>12</td>\n      <td>16</td>\n      <td>2</td>\n      <td>1</td>\n      <td>9</td>\n      <td>6</td>\n      <td>3</td>\n      <td>10</td>\n      <td>5226</td>\n      <td>2340397</td>\n      <td>5</td>\n      <td>18</td>\n      <td>1</td>\n      <td>2</td>\n      <td>2</td>\n    </tr>\n    <tr>\n      <th>1</th>\n      <td>2020-03-17</td>\n      <td>fnatic</td>\n      <td>BIG</td>\n      <td>Overpass</td>\n      <td>16</td>\n      <td>7</td>\n      <td>1</td>\n      <td>2</td>\n      <td>4</td>\n      <td>4</td>\n      <td>12</td>\n      <td>3</td>\n      <td>5226</td>\n      <td>2340397</td>\n      <td>5</td>\n      <td>18</td>\n      <td>1</td>\n      <td>2</td>\n      <td>2</td>\n    </tr>\n    <tr>\n      <th>2</th>\n      <td>2020-03-17</td>\n      <td>Natus Vincere</td>\n      <td>North</td>\n      <td>Nuke</td>\n      <td>10</td>\n      <td>16</td>\n      <td>2</td>\n      <td>1</td>\n      <td>7</td>\n      <td>8</td>\n      <td>3</td>\n      <td>8</td>\n      <td>5226</td>\n      <td>2340396</td>\n      <td>1</td>\n      <td>23</td>\n      <td>0</td>\n      <td>2</td>\n      <td>2</td>\n    </tr>\n    <tr>\n      <th>3</th>\n      <td>2020-03-17</td>\n      <td>Natus Vincere</td>\n      <td>North</td>\n      <td>Dust2</td>\n      <td>10</td>\n      <td>16</td>\n      <td>2</td>\n      <td>1</td>\n      <td>5</td>\n      <td>10</td>\n      <td>5</td>\n      <td>6</td>\n      <td>5226</td>\n      <td>2340396</td>\n      <td>1</td>\n      <td>23</td>\n      <td>0</td>\n      <td>2</td>\n      <td>2</td>\n    </tr>\n    <tr>\n      <th>4</th>\n      <td>2020-03-17</td>\n      <td>forZe</td>\n      <td>Complexity</td>\n      <td>Train</td>\n      <td>9</td>\n      <td>16</td>\n      <td>2</td>\n      <td>2</td>\n      <td>3</td>\n      <td>7</td>\n      <td>6</td>\n      <td>9</td>\n      <td>5226</td>\n      <td>2340279</td>\n      <td>24</td>\n      <td>17</td>\n      <td>2</td>\n      <td>1</td>\n      <td>1</td>\n    </tr>\n  </tbody>\n</table>\n</div>"
     },
     "execution_count": 110,
     "metadata": {},
     "output_type": "execute_result"
    }
   ],
   "source": [
    "results_df.head()"
   ],
   "metadata": {
    "collapsed": false,
    "pycharm": {
     "name": "#%%\n"
    }
   }
  },
  {
   "cell_type": "code",
   "execution_count": null,
   "outputs": [],
   "source": [],
   "metadata": {
    "collapsed": false,
    "pycharm": {
     "name": "#%%\n"
    }
   }
  }
 ],
 "metadata": {
  "kernelspec": {
   "display_name": "Python 3",
   "language": "python",
   "name": "python3"
  },
  "language_info": {
   "codemirror_mode": {
    "name": "ipython",
    "version": 2
   },
   "file_extension": ".py",
   "mimetype": "text/x-python",
   "name": "python",
   "nbconvert_exporter": "python",
   "pygments_lexer": "ipython2",
   "version": "2.7.6"
  }
 },
 "nbformat": 4,
 "nbformat_minor": 0
}