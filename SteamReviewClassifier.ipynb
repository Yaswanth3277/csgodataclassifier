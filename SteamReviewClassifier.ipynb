{
 "cells": [
  {
   "cell_type": "code",
   "execution_count": 4,
   "metadata": {
    "collapsed": true
   },
   "outputs": [],
   "source": [
    "import pandas as pd\n",
    "import numpy as np\n",
    "import matplotlib.pyplot as plt"
   ]
  },
  {
   "cell_type": "code",
   "execution_count": 5,
   "outputs": [],
   "source": [
    "steam_review = pd.read_csv(\"Datasets/steam_reviews.csv\")"
   ],
   "metadata": {
    "collapsed": false,
    "pycharm": {
     "name": "#%%\n"
    }
   }
  },
  {
   "cell_type": "code",
   "execution_count": 6,
   "outputs": [
    {
     "data": {
      "text/plain": "  date_posted  funny  helpful  hour_played  is_early_access_review  \\\n0  2019-02-10      2        4          578                   False   \n1  2019-02-10      0        0          184                   False   \n2  2019-02-07      0        0          892                   False   \n3  2018-06-14    126     1086          676                   False   \n4  2017-06-20     85     2139          612                   False   \n\n  recommendation                                             review  \\\n0    Recommended  &gt Played as German Reich&gt Declare war on B...   \n1    Recommended                                               yes.   \n2    Recommended  Very good game although a bit overpriced in my...   \n3    Recommended  Out of all the reviews I wrote This one is pro...   \n4    Recommended  Disclaimer I survivor main. I play games for f...   \n\n                                         title  \n0  Expansion - Hearts of Iron IV: Man the Guns  \n1  Expansion - Hearts of Iron IV: Man the Guns  \n2  Expansion - Hearts of Iron IV: Man the Guns  \n3                             Dead by Daylight  \n4                             Dead by Daylight  ",
      "text/html": "<div>\n<style scoped>\n    .dataframe tbody tr th:only-of-type {\n        vertical-align: middle;\n    }\n\n    .dataframe tbody tr th {\n        vertical-align: top;\n    }\n\n    .dataframe thead th {\n        text-align: right;\n    }\n</style>\n<table border=\"1\" class=\"dataframe\">\n  <thead>\n    <tr style=\"text-align: right;\">\n      <th></th>\n      <th>date_posted</th>\n      <th>funny</th>\n      <th>helpful</th>\n      <th>hour_played</th>\n      <th>is_early_access_review</th>\n      <th>recommendation</th>\n      <th>review</th>\n      <th>title</th>\n    </tr>\n  </thead>\n  <tbody>\n    <tr>\n      <th>0</th>\n      <td>2019-02-10</td>\n      <td>2</td>\n      <td>4</td>\n      <td>578</td>\n      <td>False</td>\n      <td>Recommended</td>\n      <td>&amp;gt Played as German Reich&amp;gt Declare war on B...</td>\n      <td>Expansion - Hearts of Iron IV: Man the Guns</td>\n    </tr>\n    <tr>\n      <th>1</th>\n      <td>2019-02-10</td>\n      <td>0</td>\n      <td>0</td>\n      <td>184</td>\n      <td>False</td>\n      <td>Recommended</td>\n      <td>yes.</td>\n      <td>Expansion - Hearts of Iron IV: Man the Guns</td>\n    </tr>\n    <tr>\n      <th>2</th>\n      <td>2019-02-07</td>\n      <td>0</td>\n      <td>0</td>\n      <td>892</td>\n      <td>False</td>\n      <td>Recommended</td>\n      <td>Very good game although a bit overpriced in my...</td>\n      <td>Expansion - Hearts of Iron IV: Man the Guns</td>\n    </tr>\n    <tr>\n      <th>3</th>\n      <td>2018-06-14</td>\n      <td>126</td>\n      <td>1086</td>\n      <td>676</td>\n      <td>False</td>\n      <td>Recommended</td>\n      <td>Out of all the reviews I wrote This one is pro...</td>\n      <td>Dead by Daylight</td>\n    </tr>\n    <tr>\n      <th>4</th>\n      <td>2017-06-20</td>\n      <td>85</td>\n      <td>2139</td>\n      <td>612</td>\n      <td>False</td>\n      <td>Recommended</td>\n      <td>Disclaimer I survivor main. I play games for f...</td>\n      <td>Dead by Daylight</td>\n    </tr>\n  </tbody>\n</table>\n</div>"
     },
     "execution_count": 6,
     "metadata": {},
     "output_type": "execute_result"
    }
   ],
   "source": [
    "steam_review.head()"
   ],
   "metadata": {
    "collapsed": false,
    "pycharm": {
     "name": "#%%\n"
    }
   }
  },
  {
   "cell_type": "code",
   "execution_count": 7,
   "outputs": [
    {
     "data": {
      "text/plain": "              funny        helpful    hour_played\ncount  4.348910e+05  434891.000000  434891.000000\nmean   5.333024e+05       1.004114     364.130773\nstd    4.785640e+07      59.462935     545.961198\nmin    0.000000e+00       0.000000       0.000000\n25%    0.000000e+00       0.000000      62.000000\n50%    0.000000e+00       0.000000     190.000000\n75%    0.000000e+00       0.000000     450.000000\nmax    4.294967e+09   28171.000000   31962.000000",
      "text/html": "<div>\n<style scoped>\n    .dataframe tbody tr th:only-of-type {\n        vertical-align: middle;\n    }\n\n    .dataframe tbody tr th {\n        vertical-align: top;\n    }\n\n    .dataframe thead th {\n        text-align: right;\n    }\n</style>\n<table border=\"1\" class=\"dataframe\">\n  <thead>\n    <tr style=\"text-align: right;\">\n      <th></th>\n      <th>funny</th>\n      <th>helpful</th>\n      <th>hour_played</th>\n    </tr>\n  </thead>\n  <tbody>\n    <tr>\n      <th>count</th>\n      <td>4.348910e+05</td>\n      <td>434891.000000</td>\n      <td>434891.000000</td>\n    </tr>\n    <tr>\n      <th>mean</th>\n      <td>5.333024e+05</td>\n      <td>1.004114</td>\n      <td>364.130773</td>\n    </tr>\n    <tr>\n      <th>std</th>\n      <td>4.785640e+07</td>\n      <td>59.462935</td>\n      <td>545.961198</td>\n    </tr>\n    <tr>\n      <th>min</th>\n      <td>0.000000e+00</td>\n      <td>0.000000</td>\n      <td>0.000000</td>\n    </tr>\n    <tr>\n      <th>25%</th>\n      <td>0.000000e+00</td>\n      <td>0.000000</td>\n      <td>62.000000</td>\n    </tr>\n    <tr>\n      <th>50%</th>\n      <td>0.000000e+00</td>\n      <td>0.000000</td>\n      <td>190.000000</td>\n    </tr>\n    <tr>\n      <th>75%</th>\n      <td>0.000000e+00</td>\n      <td>0.000000</td>\n      <td>450.000000</td>\n    </tr>\n    <tr>\n      <th>max</th>\n      <td>4.294967e+09</td>\n      <td>28171.000000</td>\n      <td>31962.000000</td>\n    </tr>\n  </tbody>\n</table>\n</div>"
     },
     "execution_count": 7,
     "metadata": {},
     "output_type": "execute_result"
    }
   ],
   "source": [
    "steam_review.describe()"
   ],
   "metadata": {
    "collapsed": false,
    "pycharm": {
     "name": "#%%\n"
    }
   }
  },
  {
   "cell_type": "code",
   "execution_count": 8,
   "outputs": [
    {
     "name": "stdout",
     "output_type": "stream",
     "text": [
      "<class 'pandas.core.frame.DataFrame'>\n",
      "RangeIndex: 434891 entries, 0 to 434890\n",
      "Data columns (total 8 columns):\n",
      " #   Column                  Non-Null Count   Dtype \n",
      "---  ------                  --------------   ----- \n",
      " 0   date_posted             434891 non-null  object\n",
      " 1   funny                   434891 non-null  int64 \n",
      " 2   helpful                 434891 non-null  int64 \n",
      " 3   hour_played             434891 non-null  int64 \n",
      " 4   is_early_access_review  434891 non-null  bool  \n",
      " 5   recommendation          434891 non-null  object\n",
      " 6   review                  433375 non-null  object\n",
      " 7   title                   434891 non-null  object\n",
      "dtypes: bool(1), int64(3), object(4)\n",
      "memory usage: 23.6+ MB\n"
     ]
    }
   ],
   "source": [
    "steam_review.info()"
   ],
   "metadata": {
    "collapsed": false,
    "pycharm": {
     "name": "#%%\n"
    }
   }
  },
  {
   "cell_type": "code",
   "execution_count": 9,
   "outputs": [
    {
     "data": {
      "text/plain": "date_posted                  0\nfunny                        0\nhelpful                      0\nhour_played                  0\nis_early_access_review       0\nrecommendation               0\nreview                    1516\ntitle                        0\ndtype: int64"
     },
     "execution_count": 9,
     "metadata": {},
     "output_type": "execute_result"
    }
   ],
   "source": [
    "steam_review.isnull().sum()"
   ],
   "metadata": {
    "collapsed": false,
    "pycharm": {
     "name": "#%%\n"
    }
   }
  },
  {
   "cell_type": "code",
   "execution_count": 12,
   "outputs": [],
   "source": [
    "steam_review = steam_review.dropna()"
   ],
   "metadata": {
    "collapsed": false,
    "pycharm": {
     "name": "#%%\n"
    }
   }
  },
  {
   "cell_type": "code",
   "execution_count": 13,
   "outputs": [
    {
     "data": {
      "text/plain": "date_posted               0\nfunny                     0\nhelpful                   0\nhour_played               0\nis_early_access_review    0\nrecommendation            0\nreview                    0\ntitle                     0\ndtype: int64"
     },
     "execution_count": 13,
     "metadata": {},
     "output_type": "execute_result"
    }
   ],
   "source": [
    "steam_review.isnull().sum()"
   ],
   "metadata": {
    "collapsed": false,
    "pycharm": {
     "name": "#%%\n"
    }
   }
  },
  {
   "cell_type": "code",
   "execution_count": 14,
   "outputs": [
    {
     "name": "stdout",
     "output_type": "stream",
     "text": [
      "<class 'pandas.core.frame.DataFrame'>\n",
      "Int64Index: 433375 entries, 0 to 434890\n",
      "Data columns (total 8 columns):\n",
      " #   Column                  Non-Null Count   Dtype \n",
      "---  ------                  --------------   ----- \n",
      " 0   date_posted             433375 non-null  object\n",
      " 1   funny                   433375 non-null  int64 \n",
      " 2   helpful                 433375 non-null  int64 \n",
      " 3   hour_played             433375 non-null  int64 \n",
      " 4   is_early_access_review  433375 non-null  bool  \n",
      " 5   recommendation          433375 non-null  object\n",
      " 6   review                  433375 non-null  object\n",
      " 7   title                   433375 non-null  object\n",
      "dtypes: bool(1), int64(3), object(4)\n",
      "memory usage: 26.9+ MB\n"
     ]
    }
   ],
   "source": [
    "steam_review.info()"
   ],
   "metadata": {
    "collapsed": false,
    "pycharm": {
     "name": "#%%\n"
    }
   }
  },
  {
   "cell_type": "code",
   "execution_count": null,
   "outputs": [],
   "source": [],
   "metadata": {
    "collapsed": false,
    "pycharm": {
     "name": "#%%\n"
    }
   }
  }
 ],
 "metadata": {
  "kernelspec": {
   "display_name": "Python 3",
   "language": "python",
   "name": "python3"
  },
  "language_info": {
   "codemirror_mode": {
    "name": "ipython",
    "version": 2
   },
   "file_extension": ".py",
   "mimetype": "text/x-python",
   "name": "python",
   "nbconvert_exporter": "python",
   "pygments_lexer": "ipython2",
   "version": "2.7.6"
  }
 },
 "nbformat": 4,
 "nbformat_minor": 0
}