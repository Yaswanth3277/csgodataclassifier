{
 "cells": [
  {
   "cell_type": "code",
   "execution_count": 1,
   "metadata": {
    "collapsed": true
   },
   "outputs": [],
   "source": [
    "import pandas as pd\n",
    "import numpy as np\n",
    "import matplotlib.pyplot as plt\n",
    "import seaborn as sns\n",
    "from sklearn.model_selection import train_test_split\n",
    "from sklearn.feature_extraction.text import TfidfVectorizer\n",
    "from sklearn.naive_bayes import MultinomialNB\n",
    "from sklearn.svm import LinearSVC\n",
    "from sklearn.ensemble import RandomForestClassifier\n",
    "from sklearn.metrics import accuracy_score\n",
    "from sklearn.metrics import mean_squared_error\n",
    "import tkinter\n",
    "from tkinter import *\n",
    "import math"
   ]
  },
  {
   "cell_type": "code",
   "execution_count": 2,
   "outputs": [],
   "source": [
    "steam_review = pd.read_csv(\"Datasets/steam_reviews.csv\")"
   ],
   "metadata": {
    "collapsed": false,
    "pycharm": {
     "name": "#%%\n"
    }
   }
  },
  {
   "cell_type": "code",
   "execution_count": 3,
   "outputs": [
    {
     "data": {
      "text/plain": "  date_posted  funny  helpful  hour_played  is_early_access_review  \\\n0  2019-02-10      2        4          578                   False   \n1  2019-02-10      0        0          184                   False   \n2  2019-02-07      0        0          892                   False   \n3  2018-06-14    126     1086          676                   False   \n4  2017-06-20     85     2139          612                   False   \n\n  recommendation                                             review  \\\n0    Recommended  &gt Played as German Reich&gt Declare war on B...   \n1    Recommended                                               yes.   \n2    Recommended  Very good game although a bit overpriced in my...   \n3    Recommended  Out of all the reviews I wrote This one is pro...   \n4    Recommended  Disclaimer I survivor main. I play games for f...   \n\n                                         title  \n0  Expansion - Hearts of Iron IV: Man the Guns  \n1  Expansion - Hearts of Iron IV: Man the Guns  \n2  Expansion - Hearts of Iron IV: Man the Guns  \n3                             Dead by Daylight  \n4                             Dead by Daylight  ",
      "text/html": "<div>\n<style scoped>\n    .dataframe tbody tr th:only-of-type {\n        vertical-align: middle;\n    }\n\n    .dataframe tbody tr th {\n        vertical-align: top;\n    }\n\n    .dataframe thead th {\n        text-align: right;\n    }\n</style>\n<table border=\"1\" class=\"dataframe\">\n  <thead>\n    <tr style=\"text-align: right;\">\n      <th></th>\n      <th>date_posted</th>\n      <th>funny</th>\n      <th>helpful</th>\n      <th>hour_played</th>\n      <th>is_early_access_review</th>\n      <th>recommendation</th>\n      <th>review</th>\n      <th>title</th>\n    </tr>\n  </thead>\n  <tbody>\n    <tr>\n      <th>0</th>\n      <td>2019-02-10</td>\n      <td>2</td>\n      <td>4</td>\n      <td>578</td>\n      <td>False</td>\n      <td>Recommended</td>\n      <td>&amp;gt Played as German Reich&amp;gt Declare war on B...</td>\n      <td>Expansion - Hearts of Iron IV: Man the Guns</td>\n    </tr>\n    <tr>\n      <th>1</th>\n      <td>2019-02-10</td>\n      <td>0</td>\n      <td>0</td>\n      <td>184</td>\n      <td>False</td>\n      <td>Recommended</td>\n      <td>yes.</td>\n      <td>Expansion - Hearts of Iron IV: Man the Guns</td>\n    </tr>\n    <tr>\n      <th>2</th>\n      <td>2019-02-07</td>\n      <td>0</td>\n      <td>0</td>\n      <td>892</td>\n      <td>False</td>\n      <td>Recommended</td>\n      <td>Very good game although a bit overpriced in my...</td>\n      <td>Expansion - Hearts of Iron IV: Man the Guns</td>\n    </tr>\n    <tr>\n      <th>3</th>\n      <td>2018-06-14</td>\n      <td>126</td>\n      <td>1086</td>\n      <td>676</td>\n      <td>False</td>\n      <td>Recommended</td>\n      <td>Out of all the reviews I wrote This one is pro...</td>\n      <td>Dead by Daylight</td>\n    </tr>\n    <tr>\n      <th>4</th>\n      <td>2017-06-20</td>\n      <td>85</td>\n      <td>2139</td>\n      <td>612</td>\n      <td>False</td>\n      <td>Recommended</td>\n      <td>Disclaimer I survivor main. I play games for f...</td>\n      <td>Dead by Daylight</td>\n    </tr>\n  </tbody>\n</table>\n</div>"
     },
     "execution_count": 3,
     "metadata": {},
     "output_type": "execute_result"
    }
   ],
   "source": [
    "steam_review.head()"
   ],
   "metadata": {
    "collapsed": false,
    "pycharm": {
     "name": "#%%\n"
    }
   }
  },
  {
   "cell_type": "code",
   "execution_count": 4,
   "outputs": [
    {
     "data": {
      "text/plain": "              funny        helpful    hour_played\ncount  4.348910e+05  434891.000000  434891.000000\nmean   5.333024e+05       1.004114     364.130773\nstd    4.785640e+07      59.462935     545.961198\nmin    0.000000e+00       0.000000       0.000000\n25%    0.000000e+00       0.000000      62.000000\n50%    0.000000e+00       0.000000     190.000000\n75%    0.000000e+00       0.000000     450.000000\nmax    4.294967e+09   28171.000000   31962.000000",
      "text/html": "<div>\n<style scoped>\n    .dataframe tbody tr th:only-of-type {\n        vertical-align: middle;\n    }\n\n    .dataframe tbody tr th {\n        vertical-align: top;\n    }\n\n    .dataframe thead th {\n        text-align: right;\n    }\n</style>\n<table border=\"1\" class=\"dataframe\">\n  <thead>\n    <tr style=\"text-align: right;\">\n      <th></th>\n      <th>funny</th>\n      <th>helpful</th>\n      <th>hour_played</th>\n    </tr>\n  </thead>\n  <tbody>\n    <tr>\n      <th>count</th>\n      <td>4.348910e+05</td>\n      <td>434891.000000</td>\n      <td>434891.000000</td>\n    </tr>\n    <tr>\n      <th>mean</th>\n      <td>5.333024e+05</td>\n      <td>1.004114</td>\n      <td>364.130773</td>\n    </tr>\n    <tr>\n      <th>std</th>\n      <td>4.785640e+07</td>\n      <td>59.462935</td>\n      <td>545.961198</td>\n    </tr>\n    <tr>\n      <th>min</th>\n      <td>0.000000e+00</td>\n      <td>0.000000</td>\n      <td>0.000000</td>\n    </tr>\n    <tr>\n      <th>25%</th>\n      <td>0.000000e+00</td>\n      <td>0.000000</td>\n      <td>62.000000</td>\n    </tr>\n    <tr>\n      <th>50%</th>\n      <td>0.000000e+00</td>\n      <td>0.000000</td>\n      <td>190.000000</td>\n    </tr>\n    <tr>\n      <th>75%</th>\n      <td>0.000000e+00</td>\n      <td>0.000000</td>\n      <td>450.000000</td>\n    </tr>\n    <tr>\n      <th>max</th>\n      <td>4.294967e+09</td>\n      <td>28171.000000</td>\n      <td>31962.000000</td>\n    </tr>\n  </tbody>\n</table>\n</div>"
     },
     "execution_count": 4,
     "metadata": {},
     "output_type": "execute_result"
    }
   ],
   "source": [
    "steam_review.describe()"
   ],
   "metadata": {
    "collapsed": false,
    "pycharm": {
     "name": "#%%\n"
    }
   }
  },
  {
   "cell_type": "code",
   "execution_count": 5,
   "outputs": [
    {
     "name": "stdout",
     "output_type": "stream",
     "text": [
      "<class 'pandas.core.frame.DataFrame'>\n",
      "RangeIndex: 434891 entries, 0 to 434890\n",
      "Data columns (total 8 columns):\n",
      " #   Column                  Non-Null Count   Dtype \n",
      "---  ------                  --------------   ----- \n",
      " 0   date_posted             434891 non-null  object\n",
      " 1   funny                   434891 non-null  int64 \n",
      " 2   helpful                 434891 non-null  int64 \n",
      " 3   hour_played             434891 non-null  int64 \n",
      " 4   is_early_access_review  434891 non-null  bool  \n",
      " 5   recommendation          434891 non-null  object\n",
      " 6   review                  433375 non-null  object\n",
      " 7   title                   434891 non-null  object\n",
      "dtypes: bool(1), int64(3), object(4)\n",
      "memory usage: 23.6+ MB\n"
     ]
    }
   ],
   "source": [
    "steam_review.info()"
   ],
   "metadata": {
    "collapsed": false,
    "pycharm": {
     "name": "#%%\n"
    }
   }
  },
  {
   "cell_type": "code",
   "execution_count": 6,
   "outputs": [
    {
     "data": {
      "text/plain": "date_posted                  0\nfunny                        0\nhelpful                      0\nhour_played                  0\nis_early_access_review       0\nrecommendation               0\nreview                    1516\ntitle                        0\ndtype: int64"
     },
     "execution_count": 6,
     "metadata": {},
     "output_type": "execute_result"
    }
   ],
   "source": [
    "steam_review.isnull().sum()"
   ],
   "metadata": {
    "collapsed": false,
    "pycharm": {
     "name": "#%%\n"
    }
   }
  },
  {
   "cell_type": "code",
   "execution_count": 7,
   "outputs": [],
   "source": [
    "steam_review = steam_review.dropna()"
   ],
   "metadata": {
    "collapsed": false,
    "pycharm": {
     "name": "#%%\n"
    }
   }
  },
  {
   "cell_type": "code",
   "execution_count": 8,
   "outputs": [
    {
     "data": {
      "text/plain": "date_posted               0\nfunny                     0\nhelpful                   0\nhour_played               0\nis_early_access_review    0\nrecommendation            0\nreview                    0\ntitle                     0\ndtype: int64"
     },
     "execution_count": 8,
     "metadata": {},
     "output_type": "execute_result"
    }
   ],
   "source": [
    "steam_review.isnull().sum()"
   ],
   "metadata": {
    "collapsed": false,
    "pycharm": {
     "name": "#%%\n"
    }
   }
  },
  {
   "cell_type": "code",
   "execution_count": 9,
   "outputs": [
    {
     "name": "stdout",
     "output_type": "stream",
     "text": [
      "<class 'pandas.core.frame.DataFrame'>\n",
      "Int64Index: 433375 entries, 0 to 434890\n",
      "Data columns (total 8 columns):\n",
      " #   Column                  Non-Null Count   Dtype \n",
      "---  ------                  --------------   ----- \n",
      " 0   date_posted             433375 non-null  object\n",
      " 1   funny                   433375 non-null  int64 \n",
      " 2   helpful                 433375 non-null  int64 \n",
      " 3   hour_played             433375 non-null  int64 \n",
      " 4   is_early_access_review  433375 non-null  bool  \n",
      " 5   recommendation          433375 non-null  object\n",
      " 6   review                  433375 non-null  object\n",
      " 7   title                   433375 non-null  object\n",
      "dtypes: bool(1), int64(3), object(4)\n",
      "memory usage: 26.9+ MB\n"
     ]
    }
   ],
   "source": [
    "steam_review.info()"
   ],
   "metadata": {
    "collapsed": false,
    "pycharm": {
     "name": "#%%\n"
    }
   }
  },
  {
   "cell_type": "code",
   "execution_count": 10,
   "outputs": [
    {
     "data": {
      "text/plain": "Recommended        302751\nNot Recommended    130624\nName: recommendation, dtype: int64"
     },
     "execution_count": 10,
     "metadata": {},
     "output_type": "execute_result"
    }
   ],
   "source": [
    "steam_review.recommendation.value_counts()"
   ],
   "metadata": {
    "collapsed": false,
    "pycharm": {
     "name": "#%%\n"
    }
   }
  },
  {
   "cell_type": "code",
   "execution_count": 11,
   "outputs": [
    {
     "data": {
      "text/plain": "<Figure size 432x288 with 1 Axes>",
      "image/png": "[encoded data removed]"
     },
     "metadata": {},
     "output_type": "display_data"
    }
   ],
   "source": [
    "graph_sizes = [steam_review.recommendation.value_counts()[0], steam_review.recommendation.value_counts()[1]]\n",
    "labels = [\"Recommended\", \"Not Recommended\"]\n",
    "\n",
    "explode = (0, 0.1)\n",
    "fig1, ax1 = plt.subplots()\n",
    "ax1.set_title('Games recommendation')\n",
    "ax1.pie(graph_sizes, explode=explode, labels=labels, autopct='%1.1f%%',\n",
    "        shadow=True, startangle=90)\n",
    "\n",
    "ax1.axis('equal')\n",
    "plt.tight_layout()\n",
    "plt.show()"
   ],
   "metadata": {
    "collapsed": false,
    "pycharm": {
     "name": "#%%\n"
    }
   }
  },
  {
   "cell_type": "code",
   "execution_count": 12,
   "outputs": [
    {
     "data": {
      "text/plain": "Text(0, 0.5, 'Number of reviews')"
     },
     "execution_count": 12,
     "metadata": {},
     "output_type": "execute_result"
    },
    {
     "data": {
      "text/plain": "<Figure size 936x576 with 1 Axes>",
      "image/png": "[encoded data removed]"
     },
     "metadata": {
      "needs_background": "light"
     },
     "output_type": "display_data"
    }
   ],
   "source": [
    "steam_review['hour_played_reviews'] = steam_review.groupby('hour_played')['hour_played'].transform('count')\n",
    "x = steam_review.hour_played\n",
    "y = steam_review['hour_played_reviews']\n",
    "fig = plt.figure(figsize = (13,8))\n",
    "ax = fig.add_axes([0.1, 0.1, 0.8, 0.8])\n",
    "ax.scatter(x,y)\n",
    "ax.set_title('Dependence of the number of ratings on the duration of the game')\n",
    "ax.set_xlabel('Hours played')\n",
    "ax.set_ylabel('Number of reviews')"
   ],
   "metadata": {
    "collapsed": false,
    "pycharm": {
     "name": "#%%\n"
    }
   }
  },
  {
   "cell_type": "code",
   "execution_count": 13,
   "outputs": [
    {
     "name": "stdout",
     "output_type": "stream",
     "text": [
      "Top 10 games are\n",
      "\n",
      " PLAYERUNKNOWN'S BATTLEGROUNDS                  144846\n",
      "Grand Theft Auto V                              99677\n",
      "Rust                                            70907\n",
      "Rocket League®                                  67765\n",
      "Dead by Daylight                                22178\n",
      "MONSTER HUNTER: WORLD                           18390\n",
      "ASTRONEER                                        2658\n",
      "The Elder Scrolls V: Skyrim Special Edition      1471\n",
      "RESIDENT EVIL 2 / BIOHAZARD RE:2                 1384\n",
      "Sid Meier’s Civilization® VI                      522\n",
      "Name: title, dtype: int64\n"
     ]
    }
   ],
   "source": [
    "top_games = steam_review.title.value_counts()\n",
    "print(\"Top 10 games are\\n\\n\",steam_review.title.value_counts()[:10])"
   ],
   "metadata": {
    "collapsed": false,
    "pycharm": {
     "name": "#%%\n"
    }
   }
  },
  {
   "cell_type": "code",
   "execution_count": 14,
   "outputs": [],
   "source": [
    "steam_review['review_length'] = steam_review.apply(lambda row: len(str(row['review'])), axis=1)\n",
    "\n",
    "steam_review['recommendation_int'] = steam_review['recommendation'] == 'Recommended'\n",
    "steam_review['recommendation_int'] = steam_review['recommendation_int'].astype(int)"
   ],
   "metadata": {
    "collapsed": false,
    "pycharm": {
     "name": "#%%\n"
    }
   }
  },
  {
   "cell_type": "code",
   "execution_count": 15,
   "outputs": [
    {
     "data": {
      "text/plain": "<AxesSubplot:xlabel='review', ylabel='title'>"
     },
     "execution_count": 15,
     "metadata": {},
     "output_type": "execute_result"
    },
    {
     "data": {
      "text/plain": "<Figure size 1800x1440 with 1 Axes>",
      "image/png": "[encoded data removed]"
     },
     "metadata": {},
     "output_type": "display_data"
    }
   ],
   "source": [
    "reviews_count = steam_review.groupby(['title'])['review'].count().sort_values(ascending=False)\n",
    "\n",
    "reviews_count = reviews_count.reset_index()\n",
    "\n",
    "sns.set(style=\"darkgrid\")\n",
    "plt.figure(figsize=(25,20))\n",
    "sns.barplot(y=reviews_count['title'], x=reviews_count['review'], data=reviews_count,\n",
    "            label=\"Total\", color=\"r\")\n",
    "\n",
    "reviews_count_pos = steam_review.groupby(['title', 'recommendation_int'])['review'].count().sort_values(ascending=False)\n",
    "reviews_count_pos = reviews_count_pos.reset_index()\n",
    "reviews_count_pos = reviews_count_pos[reviews_count_pos['recommendation_int'] == 1]\n",
    "sns.barplot(y=reviews_count_pos['title'], x=reviews_count_pos['review'], data=reviews_count_pos,\n",
    "            label=\"Total\", color=\"b\")"
   ],
   "metadata": {
    "collapsed": false,
    "pycharm": {
     "name": "#%%\n"
    }
   }
  },
  {
   "cell_type": "code",
   "execution_count": 16,
   "outputs": [],
   "source": [
    "steam_review['review_length'] = steam_review.apply(lambda row: len(str(row['review'])), axis=1)\n",
    "\n",
    "steam_review['recommendation_int'] = steam_review['recommendation'] == 'Recommended'\n",
    "steam_review['recommendation_int'] = steam_review['recommendation_int'].astype(int)"
   ],
   "metadata": {
    "collapsed": false,
    "pycharm": {
     "name": "#%%\n"
    }
   }
  },
  {
   "cell_type": "code",
   "execution_count": 17,
   "outputs": [
    {
     "data": {
      "text/plain": "       date_posted  funny  helpful  hour_played  is_early_access_review  \\\n0       2019-02-10      2        4          578                   False   \n1       2019-02-10      0        0          184                   False   \n2       2019-02-07      0        0          892                   False   \n3       2018-06-14    126     1086          676                   False   \n4       2017-06-20     85     2139          612                   False   \n...            ...    ...      ...          ...                     ...   \n434886  2018-11-17      1       37           10                   False   \n434887  2018-11-17      3       41           38                   False   \n434888  2018-11-20      0        0           36                   False   \n434889  2018-11-18      1       44           12                   False   \n434890  2019-01-21      1       28           20                   False   \n\n       recommendation                                             review  \\\n0         Recommended  &gt Played as German Reich&gt Declare war on B...   \n1         Recommended                                               yes.   \n2         Recommended  Very good game although a bit overpriced in my...   \n3         Recommended  Out of all the reviews I wrote This one is pro...   \n4         Recommended  Disclaimer I survivor main. I play games for f...   \n...               ...                                                ...   \n434886    Recommended  YOUR FLESH WILL ROT AND DECAY.STEEL IS IMMORTA...   \n434887    Recommended  Domini and Dominae I believe what we are deali...   \n434888    Recommended  First off if you like X Com style of games you...   \n434889    Recommended  As a disclaimer I'm an AdMech player on the ta...   \n434890    Recommended  Don't listen to people who claim it's the game...   \n\n                                              title  hour_played_reviews  \\\n0       Expansion - Hearts of Iron IV: Man the Guns                  171   \n1       Expansion - Hearts of Iron IV: Man the Guns                  662   \n2       Expansion - Hearts of Iron IV: Man the Guns                   85   \n3                                  Dead by Daylight                  148   \n4                                  Dead by Daylight                  168   \n...                                             ...                  ...   \n434886                 Warhammer 40,000: Mechanicus                 2066   \n434887                 Warhammer 40,000: Mechanicus                 1356   \n434888                 Warhammer 40,000: Mechanicus                 1364   \n434889                 Warhammer 40,000: Mechanicus                 1923   \n434890                 Warhammer 40,000: Mechanicus                 1727   \n\n        review_length  recommendation_int  \n0                 195                   1  \n1                   4                   1  \n2                 171                   1  \n3                2094                   1  \n4                1397                   1  \n...               ...                 ...  \n434886           1977                   1  \n434887           2535                   1  \n434888            730                   1  \n434889           1789                   1  \n434890           1054                   1  \n\n[433375 rows x 11 columns]",
      "text/html": "<div>\n<style scoped>\n    .dataframe tbody tr th:only-of-type {\n        vertical-align: middle;\n    }\n\n    .dataframe tbody tr th {\n        vertical-align: top;\n    }\n\n    .dataframe thead th {\n        text-align: right;\n    }\n</style>\n<table border=\"1\" class=\"dataframe\">\n  <thead>\n    <tr style=\"text-align: right;\">\n      <th></th>\n      <th>date_posted</th>\n      <th>funny</th>\n      <th>helpful</th>\n      <th>hour_played</th>\n      <th>is_early_access_review</th>\n      <th>recommendation</th>\n      <th>review</th>\n      <th>title</th>\n      <th>hour_played_reviews</th>\n      <th>review_length</th>\n      <th>recommendation_int</th>\n    </tr>\n  </thead>\n  <tbody>\n    <tr>\n      <th>0</th>\n      <td>2019-02-10</td>\n      <td>2</td>\n      <td>4</td>\n      <td>578</td>\n      <td>False</td>\n      <td>Recommended</td>\n      <td>&amp;gt Played as German Reich&amp;gt Declare war on B...</td>\n      <td>Expansion - Hearts of Iron IV: Man the Guns</td>\n      <td>171</td>\n      <td>195</td>\n      <td>1</td>\n    </tr>\n    <tr>\n      <th>1</th>\n      <td>2019-02-10</td>\n      <td>0</td>\n      <td>0</td>\n      <td>184</td>\n      <td>False</td>\n      <td>Recommended</td>\n      <td>yes.</td>\n      <td>Expansion - Hearts of Iron IV: Man the Guns</td>\n      <td>662</td>\n      <td>4</td>\n      <td>1</td>\n    </tr>\n    <tr>\n      <th>2</th>\n      <td>2019-02-07</td>\n      <td>0</td>\n      <td>0</td>\n      <td>892</td>\n      <td>False</td>\n      <td>Recommended</td>\n      <td>Very good game although a bit overpriced in my...</td>\n      <td>Expansion - Hearts of Iron IV: Man the Guns</td>\n      <td>85</td>\n      <td>171</td>\n      <td>1</td>\n    </tr>\n    <tr>\n      <th>3</th>\n      <td>2018-06-14</td>\n      <td>126</td>\n      <td>1086</td>\n      <td>676</td>\n      <td>False</td>\n      <td>Recommended</td>\n      <td>Out of all the reviews I wrote This one is pro...</td>\n      <td>Dead by Daylight</td>\n      <td>148</td>\n      <td>2094</td>\n      <td>1</td>\n    </tr>\n    <tr>\n      <th>4</th>\n      <td>2017-06-20</td>\n      <td>85</td>\n      <td>2139</td>\n      <td>612</td>\n      <td>False</td>\n      <td>Recommended</td>\n      <td>Disclaimer I survivor main. I play games for f...</td>\n      <td>Dead by Daylight</td>\n      <td>168</td>\n      <td>1397</td>\n      <td>1</td>\n    </tr>\n    <tr>\n      <th>...</th>\n      <td>...</td>\n      <td>...</td>\n      <td>...</td>\n      <td>...</td>\n      <td>...</td>\n      <td>...</td>\n      <td>...</td>\n      <td>...</td>\n      <td>...</td>\n      <td>...</td>\n      <td>...</td>\n    </tr>\n    <tr>\n      <th>434886</th>\n      <td>2018-11-17</td>\n      <td>1</td>\n      <td>37</td>\n      <td>10</td>\n      <td>False</td>\n      <td>Recommended</td>\n      <td>YOUR FLESH WILL ROT AND DECAY.STEEL IS IMMORTA...</td>\n      <td>Warhammer 40,000: Mechanicus</td>\n      <td>2066</td>\n      <td>1977</td>\n      <td>1</td>\n    </tr>\n    <tr>\n      <th>434887</th>\n      <td>2018-11-17</td>\n      <td>3</td>\n      <td>41</td>\n      <td>38</td>\n      <td>False</td>\n      <td>Recommended</td>\n      <td>Domini and Dominae I believe what we are deali...</td>\n      <td>Warhammer 40,000: Mechanicus</td>\n      <td>1356</td>\n      <td>2535</td>\n      <td>1</td>\n    </tr>\n    <tr>\n      <th>434888</th>\n      <td>2018-11-20</td>\n      <td>0</td>\n      <td>0</td>\n      <td>36</td>\n      <td>False</td>\n      <td>Recommended</td>\n      <td>First off if you like X Com style of games you...</td>\n      <td>Warhammer 40,000: Mechanicus</td>\n      <td>1364</td>\n      <td>730</td>\n      <td>1</td>\n    </tr>\n    <tr>\n      <th>434889</th>\n      <td>2018-11-18</td>\n      <td>1</td>\n      <td>44</td>\n      <td>12</td>\n      <td>False</td>\n      <td>Recommended</td>\n      <td>As a disclaimer I'm an AdMech player on the ta...</td>\n      <td>Warhammer 40,000: Mechanicus</td>\n      <td>1923</td>\n      <td>1789</td>\n      <td>1</td>\n    </tr>\n    <tr>\n      <th>434890</th>\n      <td>2019-01-21</td>\n      <td>1</td>\n      <td>28</td>\n      <td>20</td>\n      <td>False</td>\n      <td>Recommended</td>\n      <td>Don't listen to people who claim it's the game...</td>\n      <td>Warhammer 40,000: Mechanicus</td>\n      <td>1727</td>\n      <td>1054</td>\n      <td>1</td>\n    </tr>\n  </tbody>\n</table>\n<p>433375 rows × 11 columns</p>\n</div>"
     },
     "execution_count": 17,
     "metadata": {},
     "output_type": "execute_result"
    }
   ],
   "source": [
    "steam_review"
   ],
   "metadata": {
    "collapsed": false,
    "pycharm": {
     "name": "#%%\n"
    }
   }
  },
  {
   "cell_type": "code",
   "execution_count": 18,
   "outputs": [
    {
     "name": "stdout",
     "output_type": "stream",
     "text": [
      "<class 'pandas.core.frame.DataFrame'>\n",
      "Int64Index: 433375 entries, 0 to 434890\n",
      "Data columns (total 11 columns):\n",
      " #   Column                  Non-Null Count   Dtype \n",
      "---  ------                  --------------   ----- \n",
      " 0   date_posted             433375 non-null  object\n",
      " 1   funny                   433375 non-null  int64 \n",
      " 2   helpful                 433375 non-null  int64 \n",
      " 3   hour_played             433375 non-null  int64 \n",
      " 4   is_early_access_review  433375 non-null  bool  \n",
      " 5   recommendation          433375 non-null  object\n",
      " 6   review                  433375 non-null  object\n",
      " 7   title                   433375 non-null  object\n",
      " 8   hour_played_reviews     433375 non-null  int64 \n",
      " 9   review_length           433375 non-null  int64 \n",
      " 10  recommendation_int      433375 non-null  int32 \n",
      "dtypes: bool(1), int32(1), int64(5), object(4)\n",
      "memory usage: 35.1+ MB\n"
     ]
    }
   ],
   "source": [
    "steam_review.info()"
   ],
   "metadata": {
    "collapsed": false,
    "pycharm": {
     "name": "#%%\n"
    }
   }
  },
  {
   "cell_type": "code",
   "execution_count": 19,
   "outputs": [
    {
     "data": {
      "text/plain": "0"
     },
     "execution_count": 19,
     "metadata": {},
     "output_type": "execute_result"
    }
   ],
   "source": [
    "steam_review.duplicated().sum()"
   ],
   "metadata": {
    "collapsed": false,
    "pycharm": {
     "name": "#%%\n"
    }
   }
  },
  {
   "cell_type": "code",
   "execution_count": 20,
   "outputs": [],
   "source": [
    "steam_review['review'] = [review.strip().lower() for review in steam_review['review']]"
   ],
   "metadata": {
    "collapsed": false,
    "pycharm": {
     "name": "#%%\n"
    }
   }
  },
  {
   "cell_type": "code",
   "execution_count": 21,
   "outputs": [],
   "source": [
    "steam_review['review'] = steam_review['review'].replace(r\"[^a-zA-Z\\d\\_\\+\\-\\'\\.\\/\\s]+\", ' ', regex = True)\n",
    "\n",
    "steam_review['review'] = steam_review['review'].replace([\"./ \", \"' \", \" '\"], \" \", regex = True)"
   ],
   "metadata": {
    "collapsed": false,
    "pycharm": {
     "name": "#%%\n"
    }
   }
  },
  {
   "cell_type": "code",
   "execution_count": 22,
   "outputs": [
    {
     "data": {
      "text/plain": "  date_posted  funny  helpful  hour_played  is_early_access_review  \\\n0  2019-02-10      2        4          578                   False   \n1  2019-02-10      0        0          184                   False   \n2  2019-02-07      0        0          892                   False   \n3  2018-06-14    126     1086          676                   False   \n4  2017-06-20     85     2139          612                   False   \n\n  recommendation                                             review  \\\n0    Recommended   gt played as german reich gt declare war on b...   \n1    Recommended                                               yes.   \n2    Recommended  very good game although a bit overpriced in my...   \n3    Recommended  out of all the reviews i wrote this one is pro...   \n4    Recommended  disclaimer i survivor main. i play games for f...   \n\n                                         title  hour_played_reviews  \\\n0  Expansion - Hearts of Iron IV: Man the Guns                  171   \n1  Expansion - Hearts of Iron IV: Man the Guns                  662   \n2  Expansion - Hearts of Iron IV: Man the Guns                   85   \n3                             Dead by Daylight                  148   \n4                             Dead by Daylight                  168   \n\n   review_length  recommendation_int  \n0            195                   1  \n1              4                   1  \n2            171                   1  \n3           2094                   1  \n4           1397                   1  ",
      "text/html": "<div>\n<style scoped>\n    .dataframe tbody tr th:only-of-type {\n        vertical-align: middle;\n    }\n\n    .dataframe tbody tr th {\n        vertical-align: top;\n    }\n\n    .dataframe thead th {\n        text-align: right;\n    }\n</style>\n<table border=\"1\" class=\"dataframe\">\n  <thead>\n    <tr style=\"text-align: right;\">\n      <th></th>\n      <th>date_posted</th>\n      <th>funny</th>\n      <th>helpful</th>\n      <th>hour_played</th>\n      <th>is_early_access_review</th>\n      <th>recommendation</th>\n      <th>review</th>\n      <th>title</th>\n      <th>hour_played_reviews</th>\n      <th>review_length</th>\n      <th>recommendation_int</th>\n    </tr>\n  </thead>\n  <tbody>\n    <tr>\n      <th>0</th>\n      <td>2019-02-10</td>\n      <td>2</td>\n      <td>4</td>\n      <td>578</td>\n      <td>False</td>\n      <td>Recommended</td>\n      <td>gt played as german reich gt declare war on b...</td>\n      <td>Expansion - Hearts of Iron IV: Man the Guns</td>\n      <td>171</td>\n      <td>195</td>\n      <td>1</td>\n    </tr>\n    <tr>\n      <th>1</th>\n      <td>2019-02-10</td>\n      <td>0</td>\n      <td>0</td>\n      <td>184</td>\n      <td>False</td>\n      <td>Recommended</td>\n      <td>yes.</td>\n      <td>Expansion - Hearts of Iron IV: Man the Guns</td>\n      <td>662</td>\n      <td>4</td>\n      <td>1</td>\n    </tr>\n    <tr>\n      <th>2</th>\n      <td>2019-02-07</td>\n      <td>0</td>\n      <td>0</td>\n      <td>892</td>\n      <td>False</td>\n      <td>Recommended</td>\n      <td>very good game although a bit overpriced in my...</td>\n      <td>Expansion - Hearts of Iron IV: Man the Guns</td>\n      <td>85</td>\n      <td>171</td>\n      <td>1</td>\n    </tr>\n    <tr>\n      <th>3</th>\n      <td>2018-06-14</td>\n      <td>126</td>\n      <td>1086</td>\n      <td>676</td>\n      <td>False</td>\n      <td>Recommended</td>\n      <td>out of all the reviews i wrote this one is pro...</td>\n      <td>Dead by Daylight</td>\n      <td>148</td>\n      <td>2094</td>\n      <td>1</td>\n    </tr>\n    <tr>\n      <th>4</th>\n      <td>2017-06-20</td>\n      <td>85</td>\n      <td>2139</td>\n      <td>612</td>\n      <td>False</td>\n      <td>Recommended</td>\n      <td>disclaimer i survivor main. i play games for f...</td>\n      <td>Dead by Daylight</td>\n      <td>168</td>\n      <td>1397</td>\n      <td>1</td>\n    </tr>\n  </tbody>\n</table>\n</div>"
     },
     "execution_count": 22,
     "metadata": {},
     "output_type": "execute_result"
    }
   ],
   "source": [
    "steam_review.head()"
   ],
   "metadata": {
    "collapsed": false,
    "pycharm": {
     "name": "#%%\n"
    }
   }
  },
  {
   "cell_type": "code",
   "execution_count": 23,
   "outputs": [
    {
     "data": {
      "text/plain": "date_posted               0\nfunny                     0\nhelpful                   0\nhour_played               0\nis_early_access_review    0\nrecommendation            0\nreview                    0\ntitle                     0\nhour_played_reviews       0\nreview_length             0\nrecommendation_int        0\ndtype: int64"
     },
     "execution_count": 23,
     "metadata": {},
     "output_type": "execute_result"
    }
   ],
   "source": [
    "steam_review.isnull().sum()"
   ],
   "metadata": {
    "collapsed": false,
    "pycharm": {
     "name": "#%%\n"
    }
   }
  },
  {
   "cell_type": "code",
   "execution_count": 24,
   "outputs": [],
   "source": [
    "data_frame = steam_review"
   ],
   "metadata": {
    "collapsed": false,
    "pycharm": {
     "name": "#%%\n"
    }
   }
  },
  {
   "cell_type": "code",
   "execution_count": 25,
   "outputs": [],
   "source": [
    "data_frame, test_data = train_test_split(data_frame, test_size=0.20)"
   ],
   "metadata": {
    "collapsed": false,
    "pycharm": {
     "name": "#%%\n"
    }
   }
  },
  {
   "cell_type": "code",
   "execution_count": 26,
   "outputs": [],
   "source": [
    "train_data, dev_data = train_test_split(data_frame, test_size=0.20)"
   ],
   "metadata": {
    "collapsed": false,
    "pycharm": {
     "name": "#%%\n"
    }
   }
  },
  {
   "cell_type": "code",
   "execution_count": 27,
   "outputs": [
    {
     "data": {
      "text/plain": "Text(0.5, 0, 'Rating')"
     },
     "execution_count": 27,
     "metadata": {},
     "output_type": "execute_result"
    },
    {
     "data": {
      "text/plain": "<Figure size 1224x576 with 3 Axes>",
      "image/png": "[encoded data removed]"
     },
     "metadata": {},
     "output_type": "display_data"
    }
   ],
   "source": [
    "fig, axes = plt.subplots(ncols=3)\n",
    "\n",
    "plot1 = train_data.recommendation_int.value_counts().sort_index().plot(kind='bar', legend=True, rot=0, ax=axes[0])\n",
    "plot1.set_title(\"Train\")\n",
    "plot1.set_xlabel(\"Rating\")\n",
    "plot1.set_ylabel(\"number of rating\")\n",
    "plot2 = test_data.recommendation_int.value_counts().sort_index().plot(kind='bar', legend=True, rot=0, ax=axes[1])\n",
    "plot2.set_title(\"Test\")\n",
    "plot2.set_xlabel(\"Rating\")\n",
    "plot3 = dev_data.recommendation_int.value_counts().sort_index().plot(kind='bar', legend=True, rot=0,figsize=(17, 8))\n",
    "plot3.set_title(\"Dev\")\n",
    "plot3.set_xlabel(\"Rating\")"
   ],
   "metadata": {
    "collapsed": false,
    "pycharm": {
     "name": "#%%\n"
    }
   }
  },
  {
   "cell_type": "code",
   "execution_count": 28,
   "outputs": [],
   "source": [
    "tfidf = TfidfVectorizer(max_features=1000)\n",
    "\n",
    "# transforming traing data to tfidf form arrays. we can use this to train any model\n",
    "x_train = tfidf.fit_transform(train_data['review']).toarray()\n",
    "y_train = np.asarray(train_data['recommendation_int'])"
   ],
   "metadata": {
    "collapsed": false,
    "pycharm": {
     "name": "#%%\n"
    }
   }
  },
  {
   "cell_type": "code",
   "execution_count": 29,
   "outputs": [],
   "source": [
    "x_dev = tfidf.transform(dev_data['review']).toarray()\n",
    "y_dev = np.asarray(dev_data['recommendation_int'])"
   ],
   "metadata": {
    "collapsed": false,
    "pycharm": {
     "name": "#%%\n"
    }
   }
  },
  {
   "cell_type": "code",
   "execution_count": 30,
   "outputs": [
    {
     "name": "stdout",
     "output_type": "stream",
     "text": [
      "(277360, 1000)\n",
      "(277360,)\n",
      "(69340, 1000)\n",
      "(69340,)\n"
     ]
    }
   ],
   "source": [
    "print(x_train.shape)\n",
    "print(y_train.shape)\n",
    "print(x_dev.shape)\n",
    "print(y_dev.shape)"
   ],
   "metadata": {
    "collapsed": false,
    "pycharm": {
     "name": "#%%\n"
    }
   }
  },
  {
   "cell_type": "code",
   "execution_count": 31,
   "outputs": [
    {
     "name": "stdout",
     "output_type": "stream",
     "text": [
      "Mean Squared Error = 0.16703201615229304\n",
      "Accuracy = 83.2967983847707\n"
     ]
    }
   ],
   "source": [
    "mnb = MultinomialNB(alpha=1)\n",
    "mnb.fit(x_train, y_train)\n",
    "y_dev_pred_mnb = mnb.predict(x_dev)\n",
    "\n",
    "# Calculate the Mean Squared Error and Accuracy\n",
    "mse_mnb = mean_squared_error(y_dev, y_dev_pred_mnb)\n",
    "accuracy_mnb = accuracy_score(y_dev, y_dev_pred_mnb)*100\n",
    "\n",
    "# Print the Mean Squared Error and Accuracy\n",
    "print(f'Mean Squared Error = {mse_mnb}')\n",
    "print(f'Accuracy = {accuracy_mnb}')"
   ],
   "metadata": {
    "collapsed": false,
    "pycharm": {
     "name": "#%%\n"
    }
   }
  },
  {
   "cell_type": "code",
   "execution_count": 32,
   "outputs": [
    {
     "name": "stdout",
     "output_type": "stream",
     "text": [
      "Mean Squared Error = 0.1669022209402942 for alpha = 0.01\n",
      "Accuracy = 83.30977790597058 for alpha = 0.01\n",
      "Mean Squared Error = 0.1669022209402942 for alpha = 0.1\n",
      "Accuracy = 83.30977790597058 for alpha = 0.1\n",
      "Mean Squared Error = 0.16703201615229304 for alpha = 0.5\n",
      "Accuracy = 83.2967983847707 for alpha = 0.5\n",
      "Mean Squared Error = 0.16703201615229304 for alpha = 1\n",
      "Accuracy = 83.2967983847707 for alpha = 1\n",
      "Mean Squared Error = 0.16723391981540237 for alpha = 2\n",
      "Accuracy = 83.27660801845977 for alpha = 2\n"
     ]
    }
   ],
   "source": [
    "alpha = [0.01, .1, 0.5, 1, 2]\n",
    "mnb = {}\n",
    "mse_mnb = {}\n",
    "accuracy_mnb = {}\n",
    "y_dev_pred_mnb = {}\n",
    "for a in alpha:\n",
    "    mnb[a] = MultinomialNB(alpha=a)\n",
    "    mnb[a].fit(x_train, y_train)\n",
    "\n",
    "    y_dev_pred_mnb[a] = (mnb[a].predict(x_dev))\n",
    "\n",
    "    mse_mnb[a] = mean_squared_error(y_dev, y_dev_pred_mnb[a])\n",
    "    accuracy_mnb[a] = accuracy_score(y_dev, y_dev_pred_mnb[a])*100\n",
    "\n",
    "    print(f'Mean Squared Error = {mse_mnb[a]} for alpha = {a}')\n",
    "    print(f'Accuracy = {accuracy_mnb[a]} for alpha = {a}')"
   ],
   "metadata": {
    "collapsed": false,
    "pycharm": {
     "name": "#%%\n"
    }
   }
  },
  {
   "cell_type": "code",
   "execution_count": 33,
   "outputs": [],
   "source": [
    "mse = {}\n",
    "accuracy = {}\n",
    "model = {}\n",
    "model[\"MNB\"] = mnb\n",
    "mse[\"MNB\"] = mse_mnb\n",
    "accuracy[\"MNB\"] = accuracy_mnb"
   ],
   "metadata": {
    "collapsed": false,
    "pycharm": {
     "name": "#%%\n"
    }
   }
  },
  {
   "cell_type": "code",
   "execution_count": 34,
   "outputs": [
    {
     "name": "stdout",
     "output_type": "stream",
     "text": [
      "Mean Squared Error = 0.1444909143351601 for C = 0.01\n",
      "Accuracy = 85.550908566484 for C = 0.01\n",
      "Mean Squared Error = 0.1434958177098356 for C = 0.1\n",
      "Accuracy = 85.65041822901645 for C = 0.1\n",
      "Mean Squared Error = 0.14330833573694837 for C = 1\n",
      "Accuracy = 85.66916642630517 for C = 1\n",
      "Mean Squared Error = 0.14322180559561581 for C = 10\n",
      "Accuracy = 85.67781944043841 for C = 10\n",
      "Mean Squared Error = 0.14322180559561581 for C = 100\n",
      "Accuracy = 85.67781944043841 for C = 100\n"
     ]
    }
   ],
   "source": [
    "C = [0.01, 0.1, 1, 10, 100]\n",
    "svm = {}\n",
    "mse_svm = {}\n",
    "accuracy_svm = {}\n",
    "y_dev_pred_svm = {}\n",
    "for c in C:\n",
    "    svm[c] = LinearSVC(C=c, dual = False)\n",
    "    svm[c].fit(x_train, y_train)\n",
    "\n",
    "    y_dev_pred_svm[c] = (svm[c].predict(x_dev))\n",
    "\n",
    "    mse_svm[c] = mean_squared_error(y_dev, y_dev_pred_svm[c])\n",
    "    accuracy_svm[c] = accuracy_score(y_dev, y_dev_pred_svm[c])*100\n",
    "\n",
    "    print(f'Mean Squared Error = {mse_svm[c]} for C = {c}')\n",
    "    print(f'Accuracy = {accuracy_svm[c]} for C = {c}')"
   ],
   "metadata": {
    "collapsed": false,
    "pycharm": {
     "name": "#%%\n"
    }
   }
  },
  {
   "cell_type": "code",
   "execution_count": 35,
   "outputs": [],
   "source": [
    "model['SVM'] = svm\n",
    "mse['SVM'] = mse_svm\n",
    "accuracy['SVM'] = accuracy_svm"
   ],
   "metadata": {
    "collapsed": false,
    "pycharm": {
     "name": "#%%\n"
    }
   }
  },
  {
   "cell_type": "code",
   "execution_count": 36,
   "outputs": [],
   "source": [
    "def ensemble(x):\n",
    "    x_array = tfidf.transform(x).toarray()\n",
    "    y_pred_dict = {}\n",
    "    for a in alpha:\n",
    "        y_pred = model['MNB'][a].predict(x_array)[0]\n",
    "        if y_pred in y_pred_dict:\n",
    "            y_pred_dict[y_pred] += (accuracy['MNB'][a])\n",
    "        else:\n",
    "            y_pred_dict[y_pred] = (accuracy['MNB'][a])\n",
    "\n",
    "    for c in C:\n",
    "        y_pred = model['SVM'][c].predict(x_array)[0]\n",
    "        if y_pred in y_pred_dict:\n",
    "            y_pred_dict[y_pred] += (accuracy['SVM'][c])\n",
    "        else:\n",
    "            y_pred_dict[y_pred] = (accuracy['SVM'][c])\n",
    "\n",
    "    inverse = [(value, key) for key, value in y_pred_dict.items()]\n",
    "    return max(inverse)[1]"
   ],
   "metadata": {
    "collapsed": false,
    "pycharm": {
     "name": "#%%\n"
    }
   }
  },
  {
   "cell_type": "code",
   "execution_count": 37,
   "outputs": [
    {
     "name": "stdout",
     "output_type": "stream",
     "text": [
      "Mean Squared Error = 0.14459186616671474\n",
      "Accuracy = 85.54081338332853\n"
     ]
    }
   ],
   "source": [
    "y_dev_pred_ens = []\n",
    "\n",
    "for index, row in dev_data.iterrows():\n",
    "    y_dev_pred_ens.append(ensemble([row['review']]))\n",
    "\n",
    "\n",
    "mse_ens = mean_squared_error(y_dev, y_dev_pred_ens)\n",
    "accuracy_ens = accuracy_score(y_dev, y_dev_pred_ens)*100\n",
    "\n",
    "print(f'Mean Squared Error = {mse_ens}')\n",
    "print(f'Accuracy = {accuracy_ens}')"
   ],
   "metadata": {
    "collapsed": false,
    "pycharm": {
     "name": "#%%\n"
    }
   }
  },
  {
   "cell_type": "code",
   "execution_count": 38,
   "outputs": [
    {
     "name": "stdout",
     "output_type": "stream",
     "text": [
      "Mean Squared Error = 0.240798961638304 for n = 1\n",
      "Accuracy = 75.92010383616959 for n = 1\n",
      "Mean Squared Error = 0.20465820594173637 for n = 10\n",
      "Accuracy = 79.53417940582636 for n = 10\n",
      "Mean Squared Error = 0.19548601096048457 for n = 50\n",
      "Accuracy = 80.45139890395154 for n = 50\n"
     ]
    }
   ],
   "source": [
    "estimators = [1, 10, 50]\n",
    "rfc = {}\n",
    "mse_rfc = {}\n",
    "accuracy_rfc = {}\n",
    "y_dev_pred_rfc = {}\n",
    "for n in estimators:\n",
    "    rfc[n] = RandomForestClassifier(max_depth=25, n_estimators=n)\n",
    "    rfc[n].fit(x_train, y_train)\n",
    "\n",
    "    y_dev_pred_rfc[n] = (rfc[n].predict(x_dev))\n",
    "\n",
    "    mse_rfc[n] = mean_squared_error(y_dev, y_dev_pred_rfc[n])\n",
    "    accuracy_rfc[n] = accuracy_score(y_dev, y_dev_pred_rfc[n])*100\n",
    "\n",
    "    print(f'Mean Squared Error = {mse_rfc[n]} for n = {n}')\n",
    "    print(f'Accuracy = {accuracy_rfc[n]} for n = {n}')"
   ],
   "metadata": {
    "collapsed": false,
    "pycharm": {
     "name": "#%%\n"
    }
   }
  },
  {
   "cell_type": "code",
   "execution_count": 39,
   "outputs": [
    {
     "name": "stdout",
     "output_type": "stream",
     "text": [
      "Mean Squared Error of MNB = 0.22475\n",
      "Accuracy of MNB = 77.525\n",
      "Mean Squared Error of SVM = 0.19475\n",
      "Accuracy of SVM = 80.525\n",
      "Mean Squared Error of MNB = 0.23825\n",
      "Accuracy of MNB = 76.175\n",
      "Mean Squared Error of SVM = 0.21025\n",
      "Accuracy of SVM = 78.975\n",
      "Mean Squared Error of MNB = 0.23\n",
      "Accuracy of MNB = 77.0\n",
      "Mean Squared Error of SVM = 0.1995\n",
      "Accuracy of SVM = 80.05\n",
      "Mean Squared Error of MNB = 0.226\n",
      "Accuracy of MNB = 77.4\n",
      "Mean Squared Error of SVM = 0.20375\n",
      "Accuracy of SVM = 79.625\n",
      "Mean Squared Error of MNB = 0.23125\n",
      "Accuracy of MNB = 76.875\n",
      "Mean Squared Error of SVM = 0.204\n",
      "Accuracy of SVM = 79.60000000000001\n"
     ]
    }
   ],
   "source": [
    "smpl_model = []\n",
    "smpl_accuracy = []\n",
    "smpl_mse = []\n",
    "for i in range(5):\n",
    "    smpl_df = steam_review.sample(20000)\n",
    "    smpl_tfidf = TfidfVectorizer(max_features=200)\n",
    "\n",
    "    smpl_train_df, smpl_dev_df = train_test_split(smpl_df, test_size=0.20)\n",
    "\n",
    "    x_smpl_train = smpl_tfidf.fit_transform(smpl_train_df['review']).toarray()\n",
    "    y_smpl_train = np.asarray(smpl_train_df['recommendation_int'])\n",
    "\n",
    "    x_smpl_dev = smpl_tfidf.transform(smpl_dev_df['review']).toarray()\n",
    "    y_smpl_dev = np.asarray(smpl_dev_df['recommendation_int'])\n",
    "\n",
    "    smpl_mnb = MultinomialNB(alpha=.1)\n",
    "    smpl_mnb.fit(x_smpl_train, y_smpl_train)\n",
    "    y_dev_pred_smpl_mnb = smpl_mnb.predict(x_smpl_dev)\n",
    "\n",
    "    mse_smpl_mnb = mean_squared_error(y_smpl_dev, y_dev_pred_smpl_mnb)\n",
    "    accuracy_smpl_mnb = accuracy_score(y_smpl_dev, y_dev_pred_smpl_mnb)*100\n",
    "\n",
    "    print(f'Mean Squared Error of MNB = {mse_smpl_mnb}')\n",
    "    print(f'Accuracy of MNB = {accuracy_smpl_mnb}')\n",
    "\n",
    "    smpl_svm = LinearSVC(C=1, dual = False)\n",
    "    smpl_svm.fit(x_smpl_train, y_smpl_train)\n",
    "\n",
    "    y_dev_pred_smpl_svm = (smpl_svm.predict(x_smpl_dev))\n",
    "\n",
    "    mse_smpl_svm = mean_squared_error(y_smpl_dev, y_dev_pred_smpl_svm)\n",
    "    accuracy_smpl_svm = accuracy_score(y_smpl_dev, y_dev_pred_smpl_svm)*100\n",
    "\n",
    "    print(f'Mean Squared Error of SVM = {mse_smpl_svm}')\n",
    "    print(f'Accuracy of SVM = {accuracy_smpl_svm}')\n",
    "\n",
    "    smpl_model.append(smpl_mnb)\n",
    "    smpl_model.append(smpl_svm)\n",
    "    smpl_accuracy.append(accuracy_smpl_mnb)\n",
    "    smpl_accuracy.append(accuracy_smpl_svm)\n",
    "    smpl_mse.append(mse_smpl_mnb)\n",
    "    smpl_mse.append(mse_smpl_svm)"
   ],
   "metadata": {
    "collapsed": false,
    "pycharm": {
     "name": "#%%\n"
    }
   }
  },
  {
   "cell_type": "code",
   "execution_count": 40,
   "outputs": [],
   "source": [
    "def ensemble2(x):\n",
    "    x_smpl_array = smpl_tfidf.transform(x).toarray()\n",
    "    y_smpl_pred_dict = {}\n",
    "    for i in range(10):\n",
    "        y_pred = smpl_model[i].predict(x_smpl_array)[0]\n",
    "        if y_pred in y_smpl_pred_dict:\n",
    "            y_smpl_pred_dict[y_pred] += (smpl_accuracy[i])\n",
    "        else:\n",
    "            y_smpl_pred_dict[y_pred] = (smpl_accuracy[i])\n",
    "\n",
    "    inverse = [(value, key) for key, value in y_smpl_pred_dict.items()]\n",
    "    return max(inverse)[1]"
   ],
   "metadata": {
    "collapsed": false,
    "pycharm": {
     "name": "#%%\n"
    }
   }
  },
  {
   "cell_type": "code",
   "execution_count": 41,
   "outputs": [
    {
     "name": "stdout",
     "output_type": "stream",
     "text": [
      "Mean Squared Error = 0.2600230747043554\n",
      "Accuracy = 73.99769252956446\n"
     ]
    }
   ],
   "source": [
    "y_dev_pred_ens2 = []\n",
    "for index, row in dev_data.iterrows():\n",
    "    y_dev_pred_ens2.append(ensemble2([row['review']]))\n",
    "\n",
    "y_dev = np.asarray(dev_data['recommendation_int'])\n",
    "\n",
    "mse_ens = mean_squared_error(y_dev, y_dev_pred_ens2)\n",
    "accuracy_ens = accuracy_score(y_dev, y_dev_pred_ens2)*100\n",
    "\n",
    "print(f'Mean Squared Error = {mse_ens}')\n",
    "print(f'Accuracy = {accuracy_ens}')"
   ],
   "metadata": {
    "collapsed": false,
    "pycharm": {
     "name": "#%%\n"
    }
   }
  },
  {
   "cell_type": "code",
   "execution_count": 42,
   "outputs": [],
   "source": [
    "x_test = tfidf.transform(test_data['review']).toarray()\n",
    "y_test = np.asarray(test_data['recommendation_int'])"
   ],
   "metadata": {
    "collapsed": false,
    "pycharm": {
     "name": "#%%\n"
    }
   }
  },
  {
   "cell_type": "code",
   "execution_count": 43,
   "outputs": [
    {
     "name": "stdout",
     "output_type": "stream",
     "text": [
      "Mean Squared Error test = 0.1436515719642342\n",
      "Accuracy test = 85.63484280357659\n"
     ]
    }
   ],
   "source": [
    "c=1\n",
    "y_test_pred = (svm[c].predict(x_test))\n",
    "\n",
    "mse_test = mean_squared_error(y_test, y_test_pred)\n",
    "accuracy_test = accuracy_score(y_test, y_test_pred)*100\n",
    "\n",
    "print(f'Mean Squared Error test = {mse_test}')\n",
    "print(f'Accuracy test = {accuracy_test}')"
   ],
   "metadata": {
    "collapsed": false,
    "pycharm": {
     "name": "#%%\n"
    }
   }
  },
  {
   "cell_type": "code",
   "execution_count": 78,
   "outputs": [
    {
     "name": "stdout",
     "output_type": "stream",
     "text": [
      "None\n",
      "1\n",
      "0\n"
     ]
    }
   ],
   "source": [
    "def rating():\n",
    "    x = textfield_label.get()\n",
    "    results.delete(\"all\")\n",
    "    value = ensemble([x])\n",
    "    print(value)\n",
    "    if value == 1:\n",
    "        text = \"positive\"\n",
    "    else:\n",
    "        text = \"Negative\"\n",
    "    results.create_text(200, 80, text=\"The comment is \"+text, font='Arial 20', fill='white')\n",
    "    return value\n",
    "\n",
    "window = Tk()\n",
    "window.geometry(\"500x500\")\n",
    "window.title(\"Game Recommender\")\n",
    "window.config(bg=\"black\")\n",
    "head = Label(window, text=\"Game Review Classifier\", bg=\"black\", foreground=\"white\", font=(\"Arial\", 25)).pack()\n",
    "Label(window, text=\"Comment\", bg=\"black\", foreground=\"white\", font=(\"Arial\", 10)).place(x=100, y=80)\n",
    "Label(window, text=\"______________________________\", bg=\"black\", foreground=\"white\").place(x=173, y=90)\n",
    "textfield_label = Entry(window, bg=\"black\", foreground=\"white\", border=0, insertbackground=\"white\")\n",
    "textfield_label.focus()\n",
    "textfield_label.place(x=175, y=80, height=20, width=150)\n",
    "output = Label(window, bg=\"black\", foreground=\"white\", font=(\"Arial\", 25)).place(x=50, y=250)\n",
    "search = Button(window, text=\"Rate\", command=rating).place(x=200, y=150, width=100)\n",
    "print(search)\n",
    "results = tkinter.Canvas(bg='black', width='400', height='200', highlightthickness=0)\n",
    "results.place(x=50, y=250)\n",
    "window.mainloop()"
   ],
   "metadata": {
    "collapsed": false,
    "pycharm": {
     "name": "#%%\n"
    }
   }
  },
  {
   "cell_type": "code",
   "execution_count": 44,
   "outputs": [],
   "source": [],
   "metadata": {
    "collapsed": false,
    "pycharm": {
     "name": "#%%\n"
    }
   }
  }
 ],
 "metadata": {
  "kernelspec": {
   "display_name": "Python 3",
   "language": "python",
   "name": "python3"
  },
  "language_info": {
   "codemirror_mode": {
    "name": "ipython",
    "version": 2
   },
   "file_extension": ".py",
   "mimetype": "text/x-python",
   "name": "python",
   "nbconvert_exporter": "python",
   "pygments_lexer": "ipython2",
   "version": "2.7.6"
  }
 },
 "nbformat": 4,
 "nbformat_minor": 0
}